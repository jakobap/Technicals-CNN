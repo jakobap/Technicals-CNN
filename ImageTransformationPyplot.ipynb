{
 "cells": [
  {
   "cell_type": "code",
   "execution_count": 24,
   "metadata": {},
   "outputs": [],
   "source": [
    "#Plotting Library\n",
    "import matplotlib.pyplot as plt\n",
    "from mpl_toolkits.axes_grid1 import ImageGrid\n",
    "from pyts.image import GramianAngularField\n",
    "from pyts.datasets import load_gunpoint\n",
    "\n",
    "#Data Manipulation Library\n",
    "import pandas as pd\n",
    "import numpy as np\n",
    "\n",
    "#Runtime Library\n",
    "from tqdm import tqdm\n",
    "\n",
    "#Data Preprocessing Libraries\n",
    "from sklearn.preprocessing import MinMaxScaler, OneHotEncoder\n",
    "from sklearn.model_selection import train_test_split"
   ]
  },
  {
   "cell_type": "code",
   "execution_count": 25,
   "metadata": {},
   "outputs": [],
   "source": [
    "####-------------------- Full Kaggle Dataset Import ------------------------------------####"
   ]
  },
  {
   "cell_type": "code",
   "execution_count": 26,
   "metadata": {},
   "outputs": [],
   "source": [
    "price_data = pd.read_csv('/Users/jakob/OneDrive - Universitat Ramón Llull/TechLabsProj/cnn_input/cnn_fullpriceinput.csv')\n",
    "price_data.drop(['Unnamed: 0'], axis=1, inplace=True)\n",
    "price_data.dropna(axis=0, inplace=True)"
   ]
  },
  {
   "cell_type": "code",
   "execution_count": 27,
   "metadata": {},
   "outputs": [],
   "source": [
    "####-------------------- Additional Fake Features ------------------------------------####"
   ]
  },
  {
   "cell_type": "code",
   "execution_count": 28,
   "metadata": {},
   "outputs": [],
   "source": [
    "def fill_up_features_count(feature_list):\n",
    "    \"\"\"\n",
    "    Every feature is later plotted as a smaller square embedded in a larger square. Therefore the number of features\n",
    "    needs to have an integer square root.\n",
    "    \n",
    "    Based on the imported technicals this function checks how many 'mock features' need to be added\n",
    "    to make the plotting possible.\n",
    "    \"\"\"\n",
    "    feature_count = len(feature_list)-1 #-1 for return feature (target)\n",
    "    \n",
    "    while (np.sqrt(feature_count)).is_integer() == False:\n",
    "        feature_count = feature_count +1\n",
    "    \n",
    "    to_fill = feature_count - (len(feature_list) -1) #-1 for return feature (target)\n",
    "    return (feature_count, to_fill)\n",
    "\n",
    "to_fill = fill_up_features_count(price_data.columns)"
   ]
  },
  {
   "cell_type": "code",
   "execution_count": 29,
   "metadata": {},
   "outputs": [],
   "source": [
    "def fill_up_features(price_data, to_fill):\n",
    "    \"\"\"\n",
    "    This function adds the computed number of mock features as null columns to the dataset.\n",
    "    \"\"\"\n",
    "    for i in range(0, to_fill[1]):\n",
    "        price_data[f'mock_{i}'] = 0\n",
    "    \n",
    "    return price_data\n",
    "\n",
    "price_data = fill_up_features(price_data, to_fill)"
   ]
  },
  {
   "cell_type": "code",
   "execution_count": 30,
   "metadata": {},
   "outputs": [],
   "source": [
    "####------------------ Distributing & Exporting Train & Test Dataset ------------------####"
   ]
  },
  {
   "cell_type": "code",
   "execution_count": 31,
   "metadata": {},
   "outputs": [
    {
     "name": "stdout",
     "output_type": "stream",
     "text": [
      "Total number of features 36\n"
     ]
    }
   ],
   "source": [
    "df = price_data\n",
    "list_features = list(df.iloc[:, :-1].columns)\n",
    "print('Total number of features', len(list_features))\n",
    "\n",
    "#define return column as target & split in x/y & train/test\n",
    "x_train, x_test, y_train, y_test = train_test_split(df.iloc[:, :-1].values, df['return'].values, train_size=0.8, \n",
    "                                                    test_size=0.2, random_state=2, shuffle=True)"
   ]
  },
  {
   "cell_type": "code",
   "execution_count": 32,
   "metadata": {},
   "outputs": [],
   "source": [
    "#export target variable as csv for further processing\n",
    "pd.DataFrame(y_train).to_csv('/Users/jakob/OneDrive - Universitat Ramón Llull/TechLabsProj/cnn_input/y_train.csv', index_label=False)\n",
    "pd.DataFrame(y_test).to_csv('/Users/jakob/OneDrive - Universitat Ramón Llull/TechLabsProj/cnn_input/y_test.csv', index_label=False)"
   ]
  },
  {
   "cell_type": "code",
   "execution_count": 33,
   "metadata": {},
   "outputs": [],
   "source": [
    "####-------------------- Imaging Data as pyplot ------------------------------------####"
   ]
  },
  {
   "cell_type": "code",
   "execution_count": 34,
   "metadata": {},
   "outputs": [],
   "source": [
    "def image_format(x, img_width, img_height):\n",
    "    '''\n",
    "    Function formats the features in a matrix that can be plotted (as square) later.\n",
    "    1st Step: Creating a list of null arrays each with the dimensions dimXdim as basis to fill.\n",
    "    2nd Step: Each datapoint (technicals per day) is iterated as list of values & reshaped in a dimXdim matrix which replaced the 0 matrix.\n",
    "    '''\n",
    "    x_temp = np.zeros((len(x), img_height, img_width)) #creating array of zeros as basis (shape given as lengthXheightXwidth)\n",
    "    for i in range(x.shape[0]): #iterating rows of input\n",
    "        x_temp[i] = np.reshape(x[i], (img_height, img_width)) #each row is iterated as list of values \n",
    "    return x_temp"
   ]
  },
  {
   "cell_type": "code",
   "execution_count": 35,
   "metadata": {},
   "outputs": [
    {
     "name": "stdout",
     "output_type": "stream",
     "text": [
      "final shape of x, y train/test (320228, 6, 6, 3) (320228,) (80057, 6, 6, 3) (80057,)\n"
     ]
    }
   ],
   "source": [
    "#compute the side length of the plotted squares\n",
    "dim = int(np.sqrt(len(list_features))) #sqrt in order to fit the quadratic plot sturcture (sqrt of number of features needs to be an integer)\n",
    "\n",
    "#transforming tabular data to be plotted\n",
    "x_train = image_format(x_train, dim, dim)\n",
    "x_test = image_format(x_test, dim, dim)\n",
    "\n",
    "# adding 1 additional dimension (containing 3 times each value to represent color)\n",
    "x_train = np.stack((x_train,) * 3, axis=-1)\n",
    "x_test = np.stack((x_test,) * 3, axis=-1)\n",
    "\n",
    "print(\"final shape of x, y train/test {} {} {} {}\".format(x_train.shape, y_train.shape, x_test.shape, y_test.shape))"
   ]
  },
  {
   "cell_type": "code",
   "execution_count": 36,
   "metadata": {},
   "outputs": [],
   "source": [
    "def convert_to_img(input_matrix, name, y_mat):\n",
    "    \"\"\"\n",
    "    This function is converting the data into images:\n",
    "    1. Plot the shaped matrix as square of smaller squares.\n",
    "    2. Sorting every image on label (return positive or negative).\n",
    "    3. Saving the image in the respective folder.\n",
    "    \"\"\"\n",
    "    for i in tqdm(range(0, len(input_matrix))): #iterating all rows\n",
    "        img = input_matrix[i]\n",
    "        plt.imshow(img) # drawing data as a 2d plot/ figure\n",
    "        plt.axis(\"off\")\n",
    "        plt.title(f'{name}_index_{str(i)}', fontsize=10)\n",
    "        plt.subplots_adjust(wspace=0.2, hspace=0.2)\n",
    "        \n",
    "        if y_mat[i] > 0: \n",
    "            plt.savefig(f'/Users/jakob/OneDrive - Universitat Ramón Llull/TechLabsProj/cnn_input/pyplot_labelling/{name}/pos/{name}_index_{str(i)}.png')\n",
    "        else:\n",
    "            plt.savefig(f'/Users/jakob/OneDrive - Universitat Ramón Llull/TechLabsProj/cnn_input/pyplot_labelling/{name}/neg/{name}_index_{str(i)}.png')\n",
    "    return"
   ]
  },
  {
   "cell_type": "code",
   "execution_count": null,
   "metadata": {},
   "outputs": [],
   "source": [
    "convert_to_img(x_train, 'x_train', y_train)"
   ]
  },
  {
   "cell_type": "code",
   "execution_count": null,
   "metadata": {},
   "outputs": [],
   "source": [
    "convert_to_img(x_test, 'x_test', y_test)"
   ]
  },
  {
   "cell_type": "code",
   "execution_count": null,
   "metadata": {},
   "outputs": [],
   "source": []
  }
 ],
 "metadata": {
  "kernelspec": {
   "display_name": "Python 3",
   "language": "python",
   "name": "python3"
  },
  "language_info": {
   "codemirror_mode": {
    "name": "ipython",
    "version": 3
   },
   "file_extension": ".py",
   "mimetype": "text/x-python",
   "name": "python",
   "nbconvert_exporter": "python",
   "pygments_lexer": "ipython3",
   "version": "3.7.6"
  }
 },
 "nbformat": 4,
 "nbformat_minor": 4
}
