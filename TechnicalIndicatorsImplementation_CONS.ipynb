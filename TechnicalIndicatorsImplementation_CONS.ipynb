{
 "cells": [
  {
   "cell_type": "code",
   "execution_count": 381,
   "metadata": {},
   "outputs": [],
   "source": [
    "# Import Data Manipulation Libraries\n",
    "import numpy as np\n",
    "import pandas as pd\n",
    "\n",
    "#Import Library For Technical Indicators\n",
    "import ta\n",
    "\n",
    "#Import Path Libraries\n",
    "import os\n",
    "from os import listdir\n",
    "from os.path import isfile, join\n",
    "\n",
    "#Importing Runtime Library\n",
    "from tqdm import tqdm\n",
    "\n",
    "#Importing Plotting Library\n",
    "import matplotlib.pyplot as plt"
   ]
  },
  {
   "cell_type": "code",
   "execution_count": 382,
   "metadata": {},
   "outputs": [],
   "source": [
    "####-------------------- Dataset Import ------------------------------------####"
   ]
  },
  {
   "cell_type": "code",
   "execution_count": 383,
   "metadata": {},
   "outputs": [],
   "source": [
    "mypath = \"/Users/jakob/OneDrive - Universitat Ramón Llull/TechLabsProj/cnn_input/stocks_kaggle\"\n",
    "onlyfiles = sorted(listdir(mypath))"
   ]
  },
  {
   "cell_type": "code",
   "execution_count": 384,
   "metadata": {},
   "outputs": [],
   "source": [
    "input_df = pd.DataFrame(columns = ['Date', 'Open', 'High', 'Low', 'Close', 'Volume', 'OpenInt'])"
   ]
  },
  {
   "cell_type": "code",
   "execution_count": 385,
   "metadata": {},
   "outputs": [
    {
     "name": "stderr",
     "output_type": "stream",
     "text": [
      "\n",
      "  0%|          | 0/100 [00:00<?, ?it/s]\u001b[A\n",
      "  9%|▉         | 9/100 [00:00<00:01, 82.12it/s]\u001b[A"
     ]
    },
    {
     "name": "stdout",
     "output_type": "stream",
     "text": [
      "a.us.txt\n",
      "4521\n",
      "aa.us.txt\n",
      "16595\n",
      "aaap.us.txt\n",
      "17100\n",
      "aaba.us.txt\n",
      "22534\n",
      "aac.us.txt\n",
      "23319\n",
      "aal.us.txt\n",
      "24308\n",
      "aamc.us.txt\n",
      "25519\n",
      "aame.us.txt\n",
      "28445\n",
      "aan.us.txt\n",
      "31646\n",
      "aaoi.us.txt\n",
      "32687\n",
      "aaon.us.txt\n",
      "35888\n",
      "aap.us.txt\n",
      "39089\n",
      "aapl.us.txt\n",
      "47453\n",
      "aat.us.txt\n",
      "49170\n",
      "aau.us.txt\n"
     ]
    },
    {
     "name": "stderr",
     "output_type": "stream",
     "text": [
      "\n",
      " 16%|█▌        | 16/100 [00:00<00:01, 74.05it/s]\u001b[A\n",
      " 21%|██        | 21/100 [00:00<00:01, 64.49it/s]\u001b[A"
     ]
    },
    {
     "name": "stdout",
     "output_type": "stream",
     "text": [
      "52347\n",
      "aav.us.txt\n",
      "55546\n",
      "aaww.us.txt\n",
      "58708\n",
      "aaxn.us.txt\n",
      "61909\n",
      "ab.us.txt\n",
      "65110\n",
      "abac.us.txt\n",
      "66937\n",
      "abax.us.txt\n",
      "70138\n",
      "abb.us.txt\n",
      "73339\n",
      "abbv.us.txt\n",
      "74563\n",
      "abc.us.txt\n",
      "80254\n",
      "abcb.us.txt\n"
     ]
    },
    {
     "name": "stderr",
     "output_type": "stream",
     "text": [
      "\n",
      " 26%|██▌       | 26/100 [00:00<00:01, 57.84it/s]\u001b[A\n",
      " 31%|███       | 31/100 [00:00<00:01, 51.85it/s]\u001b[A"
     ]
    },
    {
     "name": "stdout",
     "output_type": "stream",
     "text": [
      "83455\n",
      "abcd.us.txt\n",
      "85425\n",
      "abco.us.txt\n",
      "88626\n",
      "abdc.us.txt\n",
      "89511\n",
      "abe.us.txt\n",
      "92701\n",
      "abeo.us.txt\n",
      "93430\n",
      "abeow.us.txt\n",
      "93945\n",
      "abev.us.txt\n",
      "96464\n",
      "abg.us.txt\n",
      "99665\n",
      "abil.us.txt\n"
     ]
    },
    {
     "name": "stderr",
     "output_type": "stream",
     "text": [
      "\n",
      " 36%|███▌      | 36/100 [00:00<00:01, 46.17it/s]\u001b[A"
     ]
    },
    {
     "name": "stdout",
     "output_type": "stream",
     "text": [
      "100135\n",
      "abio.us.txt\n",
      "103336\n",
      "ablx.us.txt\n",
      "103349\n",
      "abm.us.txt\n",
      "106550\n",
      "abmd.us.txt\n",
      "109749\n",
      "abr.us.txt\n",
      "112950\n",
      "abr_a.us.txt\n",
      "114094\n",
      "abr_b.us.txt\n"
     ]
    },
    {
     "name": "stderr",
     "output_type": "stream",
     "text": [
      "\n",
      " 41%|████      | 41/100 [00:00<00:01, 41.07it/s]\u001b[A\n",
      " 45%|████▌     | 45/100 [00:00<00:01, 35.80it/s]\u001b[A"
     ]
    },
    {
     "name": "stdout",
     "output_type": "stream",
     "text": [
      "115136\n",
      "abr_c.us.txt\n",
      "115968\n",
      "abrn.us.txt\n",
      "116843\n",
      "abt.us.txt\n",
      "125569\n",
      "abtx.us.txt\n",
      "126098\n",
      "abus.us.txt\n",
      "128547\n",
      "abx.us.txt\n"
     ]
    },
    {
     "name": "stderr",
     "output_type": "stream",
     "text": [
      "\n",
      " 49%|████▉     | 49/100 [00:01<00:01, 31.63it/s]\u001b[A"
     ]
    },
    {
     "name": "stdout",
     "output_type": "stream",
     "text": [
      "136802\n",
      "aby.us.txt\n",
      "137664\n",
      "ac.us.txt\n",
      "138155\n",
      "acad.us.txt\n",
      "141355\n",
      "acbi.us.txt\n",
      "141867\n",
      "acc.us.txt\n",
      "145068\n",
      "acco.us.txt\n"
     ]
    },
    {
     "name": "stderr",
     "output_type": "stream",
     "text": [
      "\n",
      " 53%|█████▎    | 53/100 [00:01<00:01, 29.69it/s]\u001b[A\n",
      " 57%|█████▋    | 57/100 [00:01<00:01, 31.66it/s]\u001b[A"
     ]
    },
    {
     "name": "stdout",
     "output_type": "stream",
     "text": [
      "148152\n",
      "accp.us.txt\n",
      "acer.us.txt\n",
      "151277\n",
      "acerw.us.txt\n",
      "151912\n",
      "acet.us.txt\n",
      "155113\n",
      "acfc.us.txt\n",
      "156665\n",
      "acgl.us.txt\n",
      "159866\n",
      "acglo.us.txt\n"
     ]
    },
    {
     "name": "stderr",
     "output_type": "stream",
     "text": [
      "\n",
      " 61%|██████    | 61/100 [00:01<00:01, 29.67it/s]\u001b[A\n",
      " 65%|██████▌   | 65/100 [00:01<00:01, 28.48it/s]\u001b[A"
     ]
    },
    {
     "name": "stdout",
     "output_type": "stream",
     "text": [
      "159925\n",
      "acglp.us.txt\n",
      "160205\n",
      "ach.us.txt\n",
      "163394\n",
      "achc.us.txt\n",
      "164910\n",
      "achn.us.txt\n",
      "167690\n",
      "achv.us.txt\n",
      "170890\n",
      "acia.us.txt\n"
     ]
    },
    {
     "name": "stderr",
     "output_type": "stream",
     "text": [
      "\n",
      " 68%|██████▊   | 68/100 [00:01<00:01, 27.73it/s]\u001b[A\n",
      " 71%|███████   | 71/100 [00:01<00:01, 26.75it/s]\u001b[A"
     ]
    },
    {
     "name": "stdout",
     "output_type": "stream",
     "text": [
      "171269\n",
      "aciu.us.txt\n",
      "171556\n",
      "aciw.us.txt\n",
      "174757\n",
      "acls.us.txt\n",
      "177958\n",
      "acm.us.txt\n",
      "180606\n",
      "acmr.us.txt\n",
      "180612\n",
      "acn.us.txt\n"
     ]
    },
    {
     "name": "stderr",
     "output_type": "stream",
     "text": [
      "\n",
      " 74%|███████▍  | 74/100 [00:02<00:01, 25.15it/s]\u001b[A"
     ]
    },
    {
     "name": "stdout",
     "output_type": "stream",
     "text": [
      "183813\n",
      "acnb.us.txt\n",
      "186658\n",
      "acor.us.txt\n",
      "189617\n",
      "acp.us.txt\n",
      "191324\n",
      "acre.us.txt\n",
      "192721\n",
      "acrs.us.txt\n"
     ]
    },
    {
     "name": "stderr",
     "output_type": "stream",
     "text": [
      "\n",
      " 77%|███████▋  | 77/100 [00:02<00:00, 23.95it/s]\u001b[A\n",
      " 80%|████████  | 80/100 [00:02<00:00, 23.14it/s]\u001b[A"
     ]
    },
    {
     "name": "stdout",
     "output_type": "stream",
     "text": [
      "193250\n",
      "acrx.us.txt\n",
      "194924\n",
      "acsf.us.txt\n",
      "195888\n",
      "acsi.us.txt\n",
      "196147\n",
      "acst.us.txt\n",
      "197357\n",
      "acta.us.txt\n"
     ]
    },
    {
     "name": "stderr",
     "output_type": "stream",
     "text": [
      "\n",
      " 83%|████████▎ | 83/100 [00:02<00:00, 22.51it/s]\u001b[A\n",
      " 86%|████████▌ | 86/100 [00:02<00:00, 22.27it/s]\u001b[A"
     ]
    },
    {
     "name": "stdout",
     "output_type": "stream",
     "text": [
      "200558\n",
      "actg.us.txt\n",
      "203759\n",
      "acu.us.txt\n",
      "206843\n",
      "acv.us.txt\n",
      "207468\n",
      "acxm.us.txt\n",
      "210669\n",
      "acy.us.txt\n"
     ]
    },
    {
     "name": "stderr",
     "output_type": "stream",
     "text": [
      "\n",
      " 89%|████████▉ | 89/100 [00:02<00:00, 21.17it/s]\u001b[A"
     ]
    },
    {
     "name": "stdout",
     "output_type": "stream",
     "text": [
      "213708\n",
      "adap.us.txt\n",
      "214345\n",
      "adbe.us.txt\n",
      "222221\n",
      "adc.us.txt\n",
      "225422\n",
      "ades.us.txt\n"
     ]
    },
    {
     "name": "stderr",
     "output_type": "stream",
     "text": [
      "\n",
      " 92%|█████████▏| 92/100 [00:02<00:00, 20.21it/s]\u001b[A"
     ]
    },
    {
     "name": "stdout",
     "output_type": "stream",
     "text": [
      "225762\n",
      "adhd.us.txt\n",
      "226891\n",
      "adi.us.txt\n",
      "235289\n",
      "adm.us.txt\n",
      "244015\n",
      "adma.us.txt\n"
     ]
    },
    {
     "name": "stderr",
     "output_type": "stream",
     "text": [
      "\n",
      " 95%|█████████▌| 95/100 [00:03<00:00, 18.61it/s]\u001b[A\n",
      " 97%|█████████▋| 97/100 [00:03<00:00, 17.96it/s]\u001b[A"
     ]
    },
    {
     "name": "stdout",
     "output_type": "stream",
     "text": [
      "244770\n",
      "admp.us.txt\n",
      "250240\n",
      "adms.us.txt\n",
      "251146\n",
      "adnt.us.txt\n",
      "251405\n",
      "adom.us.txt\n"
     ]
    },
    {
     "name": "stderr",
     "output_type": "stream",
     "text": [
      "\n",
      "100%|██████████| 100/100 [00:03<00:00, 28.88it/s][A"
     ]
    },
    {
     "name": "stdout",
     "output_type": "stream",
     "text": [
      "251510\n",
      "adp.us.txt\n",
      "260234\n"
     ]
    },
    {
     "name": "stderr",
     "output_type": "stream",
     "text": [
      "\n"
     ]
    }
   ],
   "source": [
    "## merging files in one df ##\n",
    "\n",
    "file_list = [] # create list with files in dataset\n",
    "for file in tqdm(onlyfiles[:100]):\n",
    "    print(file)\n",
    "    filesize = os.path.getsize(f'{mypath}/{file}')\n",
    "    \n",
    "    if filesize == 0:\n",
    "        pass\n",
    "    else:\n",
    "        price_data = pd.read_csv(f'{mypath}/{file}')\n",
    "        price_data['security_name'] = file #add name of file to dataset\n",
    "        input_df = pd.concat([input_df, price_data])\n",
    "        file_list.append(file)\n",
    "        print(len(input_df))\n",
    "        \n",
    "price_data = input_df"
   ]
  },
  {
   "cell_type": "code",
   "execution_count": 386,
   "metadata": {},
   "outputs": [],
   "source": [
    "####-------------------- Technical Implementation ------------------------------------####"
   ]
  },
  {
   "cell_type": "code",
   "execution_count": 387,
   "metadata": {},
   "outputs": [],
   "source": [
    "#### RSI - Relative Strength Index ####\n",
    "def rsi(price_data, price_index, lookback=14):\n",
    "    \n",
    "    def rsi_inner(data):   \n",
    "        gain = data[data>0].mean()\n",
    "        loss = -1*data[data<0].mean()    \n",
    "        return 100 * gain / (gain + loss)\n",
    "    \n",
    "    price_data['return'] = ((price_data.iloc[:, price_index] / price_data.iloc[:, price_index].shift(1)) -1).fillna(0)\n",
    "    price_data['rsi'] = price_data['return'].rolling(center=False, window=lookback).apply(rsi_inner).fillna(0)\n",
    "    \n",
    "    #defining buy and sell signal threshold\n",
    "    rsi_buy = 30\n",
    "    rsi_sell = 70\n",
    "    \n",
    "    #apply signals as additional feature\n",
    "    price_data['rsi_signal'] = 0 #neutral signal\n",
    "    price_data.loc[price_data['rsi'] < rsi_buy , 'rsi_signal'] = 1 #buy signal\n",
    "    price_data.loc[price_data['rsi'] > rsi_sell , 'rsi_signal'] = -1 #sell signal\n",
    "    \n",
    "    price_data.drop(['return'], axis=1, inplace=True)\n",
    "    return price_data\n",
    "\n",
    "#price_data = rsi(price_data, price_index = 2)\n",
    "price_data = rsi(price_data, price_index = 2)"
   ]
  },
  {
   "cell_type": "code",
   "execution_count": 388,
   "metadata": {},
   "outputs": [],
   "source": [
    "#### Bollinger Bands ####\n",
    "def bbands(data, price_index, length=30, numsd=2):\n",
    "    \"\"\" returns average, upper band, and lower band\"\"\"\n",
    "    #ave = pd.stats.moments.rolling_mean(price,length)\n",
    "    ave = data.iloc[:, price_index].rolling(window = length, center = False).mean()\n",
    "    #sd = pd.stats.moments.rolling_std(price,length)\n",
    "    sd = data.iloc[:, price_index].rolling(window = length, center = False).std()\n",
    "    upband = ave + (sd*numsd)\n",
    "    dnband = ave - (sd*numsd)\n",
    "    \n",
    "    data['bb_upper'] = np.round(upband,3)\n",
    "    data['bb_mid'] = np.round(ave,3)\n",
    "    data['bb_lower'] = np.round(dnband,3)\n",
    "    return data\n",
    "\n",
    "price_data = bbands(price_data, 2)"
   ]
  },
  {
   "cell_type": "code",
   "execution_count": 389,
   "metadata": {},
   "outputs": [],
   "source": [
    "#### Volume (Plain) ####\n",
    "def volume (data):\n",
    "    data['Volume'].fillna(0)\n",
    "    return data\n",
    "\n",
    "price_data = volume(price_data)"
   ]
  },
  {
   "cell_type": "code",
   "execution_count": 390,
   "metadata": {},
   "outputs": [],
   "source": [
    "#### Aroon Oscillator ####\n",
    "def aroon(df, tf=25, high='High', low='Low'):\n",
    "    aroonup = []\n",
    "    aroondown = []\n",
    "    x = tf\n",
    "    \n",
    "    #fill up dataframe with 0 for values below time threshold\n",
    "    aroonup = [0] * tf\n",
    "    aroondown = [0] * tf\n",
    "        \n",
    "    while x < len(df['Date']):\n",
    "        aroon_up = ((df[high][x-tf:x].tolist().index(max(df[high][x-tf:x])))/float(tf))*100\n",
    "        aroon_down = ((df[low][x-tf:x].tolist().index(min(df[low][x-tf:x])))/float(tf))*100\n",
    "        aroonup.append(aroon_up)\n",
    "        aroondown.append(aroon_down)\n",
    "        x+=1\n",
    "    \n",
    "    df['aroonup'] = aroonup\n",
    "    df['aroondown'] = aroondown\n",
    "    \n",
    "    ##Implement Trading Signals\n",
    "    #When the Aroon Up is above the Aroon Down, it indicates bullish price behavior.\n",
    "    #When the Aroon Down is above the Aroon Up, it signals bearish price behavior.\n",
    "    df['aroon_sig'] = 0 \n",
    "    df.loc[df['aroonup'] > df['aroondown'], 'aroon_sig'] = 1 #buy signal\n",
    "    df.loc[df['aroondown'] > df['aroonup'], 'aroon_sig'] = -1\n",
    "    return df\n",
    "\n",
    "\n",
    "#price_data = pd.read_csv('./cnn_input/stocks_kaggle/abio.us.txt')\n",
    "#price_data = aroon(price_data)\n",
    "price_data = aroon(price_data, high='High', low='Low')"
   ]
  },
  {
   "cell_type": "code",
   "execution_count": 391,
   "metadata": {},
   "outputs": [],
   "source": [
    "#### Price-Volume-Trend-Indicator ####\n",
    "def pvt(data, signal_len = 14):\n",
    "    data['momentum'] = (data['Close'] - data['Close'].shift(1)).fillna(0)\n",
    "    data[\"PVT\"] = (data['momentum'] / data['Close'].shift(1))*data['Volume']\n",
    "    data[\"PVT\"] = data[\"PVT\"]-data[\"PVT\"].shift(1)\n",
    "    data[\"PVT\"] = data[\"PVT\"].fillna(0)\n",
    "    \n",
    "    ##Implement Trading Signals\n",
    "    data['pvt_movmean'] = data['PVT'].rolling(signal_len).mean() #signal line as moving average \n",
    "    data['pvt_signal'] = 0\n",
    "    data.loc[data['PVT'] > data['pvt_movmean'], 'pvt_signal'] = 1 #buy signal\n",
    "    data.loc[data['PVT'] < data['pvt_movmean'], 'pvt_signal'] = -1 #sell signal\n",
    "    \n",
    "    data.drop(['momentum'], axis = 1, inplace = True)\n",
    "    return data\n",
    "\n",
    "#price_data = pvt(price_data)"
   ]
  },
  {
   "cell_type": "code",
   "execution_count": 392,
   "metadata": {},
   "outputs": [],
   "source": [
    "#### Acceleration Bands ####\n",
    "def abands(df, window = 20, high='High', low='Low'):\n",
    "    \n",
    "    df['AB_Middle_Band'] = df['Close'].rolling(window = window, center=False).mean()\n",
    "    \n",
    "    # High * ( 1 + 4 * (High - Low) / (High + Low))\n",
    "    df['aupband'] = df[high] * (1 + 4 * (df[high]-df[low])/(df[high]+df[low]))\n",
    "    df['AB_Upper_Band'] = df['aupband'].rolling(window=window, center=False).mean()\n",
    "        \n",
    "    # Low *(1 - 4 * (High - Low)/ (High + Low))\n",
    "    df['adownband'] = df[low] * (1 - 4 * (df[high]-df[low])/(df[high]+df[low]))\n",
    "    df['AB_Lower_Band'] = df['adownband'].rolling(window=window, center=False).mean()\n",
    "    \n",
    "    ##Implement Trading Signals\n",
    "    df['abbands_sig'] = 0\n",
    "    df.loc[df[high] > df['AB_Upper_Band'], 'abbands_sig'] = 1 #buy signal\n",
    "    df.loc[df[low] > df['AB_Lower_Band'], 'abbands_sig'] = -1 #sell signal \n",
    "    \n",
    "    df.drop(['adownband', 'aupband'], axis = 1, inplace = True) \n",
    "    return df\n",
    "    \n",
    "price_data = abands(price_data, high='High', low='Low')"
   ]
  },
  {
   "cell_type": "code",
   "execution_count": 393,
   "metadata": {},
   "outputs": [],
   "source": [
    "#### Stochastic ####\n",
    "def stochastic (price_data):\n",
    "    \n",
    "    # Creating %k \n",
    "    price_data['stoch_k'] = ta.momentum.stoch(high = price_data['High'], low = price_data['Low'], \n",
    "                                                 close = price_data['Close'], n=14, d_n=3, fillna=False)\n",
    "    \n",
    "    # Creating %d\n",
    "    price_data['stoch_d'] = ta.momentum.stoch_signal(high = price_data['High'], low = price_data['Low'], \n",
    "                                                 close = price_data['Close'], n=14, d_n=3, fillna=False)\n",
    "    \n",
    "    # Setting the stoch_signal to 0 for neutral indication\n",
    "    price_data['stoch_signal'] = 0\n",
    "    \n",
    "    # If stoch_k or stoch_d is over 80, then there is a signal to sell (overbought conditions)\n",
    "    # So when either is over 80, and then stoch_k crosses stoch_d from below, then sell  -1\n",
    "    price_data.loc[((price_data['stoch_k'] < price_data['stoch_d']) & (price_data['stoch_k'].shift(1) > price_data['stoch_d'].shift(1))) & (price_data['stoch_d'] > 80), 'stoch_signal'] = '-1'\n",
    "    \n",
    "    # If stoch_k or stoch_d is less than 20, then there is a signal to buy\n",
    "    # So when either is less than 20, and then stoch_k crosses stoch_d from above, then buy  1\n",
    "    price_data.loc[((price_data['stoch_k'] > price_data['stoch_d']) & (price_data['stoch_k'].shift(1) < price_data['stoch_d'].shift(1))) & (price_data['stoch_d'] < 20), 'stoch_signal'] = '1'  \n",
    "    \n",
    "    # Drop stoch_k and stoch_d\n",
    "    #price_data  = price_data.drop(['stoch_k', 'stoch_d'], axis=1)\n",
    "    \n",
    "    # Making stoch_signal numeric\n",
    "    price_data['stoch_signal'] = pd.to_numeric(price_data['stoch_signal'])\n",
    "    \n",
    "    return price_data\n",
    "\n",
    "price_data = stochastic(price_data)"
   ]
  },
  {
   "cell_type": "code",
   "execution_count": 394,
   "metadata": {},
   "outputs": [],
   "source": [
    "#### Chaikin Money Flow ####\n",
    "\n",
    "def chaikin_money_flow (price_data):\n",
    "    \n",
    "    # n = 20 days as the standard\n",
    "    price_data['CMF'] = ta.volume.chaikin_money_flow(high = price_data['High'], low = price_data['Low'], \n",
    "                                                                close = price_data['Close'], \n",
    "                                                                volume = price_data['Volume'], n = 20)\n",
    "    # Buy & sell signals\n",
    "    signs = np.sign(price_data.CMF)\n",
    "    price_data['CMF_signal'] = np.sign(signs.diff()).fillna(0)\n",
    "\n",
    "    # Making CMF_signal numeric\n",
    "    price_data['CMF_signal'] = pd.to_numeric(price_data['CMF_signal'])\n",
    "    \n",
    "    return price_data\n",
    "\n",
    "price_data = chaikin_money_flow(price_data)"
   ]
  },
  {
   "cell_type": "code",
   "execution_count": 395,
   "metadata": {},
   "outputs": [],
   "source": [
    "#### Rate of Change ####\n",
    "\n",
    "def rate_of_change(price_data, n = 9):\n",
    "    \n",
    "    \"\"\"\n",
    "    :param price_data: pandas.DataFrame\n",
    "    :param n: 9,14,25 days common for short term traders\n",
    "    :return: pandas.DataFrame\n",
    "    :sell signal: from positive to negative \n",
    "    \"buy signal: from negative to postive\"\n",
    "    \"\"\"\n",
    "    \n",
    "    M = price_data['Close'].diff(n - 1)\n",
    "    N = price_data['Close'].shift(n - 1)\n",
    "    ROC = pd.Series(M / N, name='ROC')\n",
    "    price_data['ROC'] = ROC\n",
    "    \n",
    "    # Buy & sell signals\n",
    "    signs = np.sign(price_data.ROC)\n",
    "    price_data['ROC_signal'] = np.sign(signs.diff()).fillna(0)\n",
    "    \n",
    "    # Making ROC_signal numeric\n",
    "    price_data['ROC_signal'] = pd.to_numeric(price_data['ROC_signal'])\n",
    "    \n",
    "    return price_data\n",
    "\n",
    "price_data = rate_of_change(price_data)"
   ]
  },
  {
   "cell_type": "code",
   "execution_count": 396,
   "metadata": {},
   "outputs": [],
   "source": [
    "#### Commodity Channel Index####\n",
    "def CCI(data, ndays=14): \n",
    "    TP = (data['High'] + data['Low'] + data['Close']) / 3 \n",
    "    CCI = pd.Series((TP - TP.rolling(ndays).mean()) / (0.015*TP.rolling(ndays).std()),\n",
    "                    name = 'CCI') \n",
    "    \n",
    "    data['CCI'] = CCI\n",
    "    #defining buy and sell signal threshold\n",
    "    cci_buy = 100\n",
    "    cci_sell = -100\n",
    "    #apply signals as additional feature\n",
    "    price_data['cci_sig'] = 0 #neutral signal\n",
    "    price_data.loc[price_data['CCI' ] > cci_buy , 'cci_sig'] = 1 #buy signal\n",
    "    price_data.loc[price_data['CCI'] < cci_sell , 'cci_sig'] = -1 #sell signal\n",
    "    \n",
    "    return data\n",
    "\n",
    "price_data = CCI(price_data)"
   ]
  },
  {
   "cell_type": "code",
   "execution_count": 397,
   "metadata": {},
   "outputs": [],
   "source": [
    "#### Keltner Channels ####\n",
    "\n",
    "def keltner_channel(df, n=14):\n",
    "    KelChM = pd.Series(((df['High'] + df['Low'] + df['Close']) / 3).rolling(n, min_periods=n).mean(),\n",
    "                       name='KelChM_' + str(n))\n",
    "    KelChU = pd.Series(((4 * df['High'] - 2 * df['Low'] + df['Close']) / 3).rolling(n, min_periods=n).mean(),\n",
    "                       name='KelChU_' + str(n))\n",
    "    KelChD = pd.Series(((-2 * df['High'] + 4 * df['Low'] + df['Close']) / 3).rolling(n, min_periods=n).mean(),\n",
    "                       name='KelChD_' + str(n))\n",
    "    df['KelChM'] = KelChM\n",
    "    df['KelChU'] = KelChU\n",
    "    df['KelChD'] = KelChD\n",
    "    return df\n",
    "\n",
    "price_data = keltner_channel(price_data)"
   ]
  },
  {
   "cell_type": "code",
   "execution_count": 398,
   "metadata": {},
   "outputs": [],
   "source": [
    "#### Exponential Moving Average ####\n",
    "def exponential_moving_average(df, n=14):\n",
    "    \n",
    "    EMA = pd.Series(df['Close'].ewm(span=n, min_periods=n).mean(), name='EMA_' + str(n))\n",
    "    df['EMA'] = EMA\n",
    "    return df\n",
    "\n",
    "price_data = exponential_moving_average(price_data)"
   ]
  },
  {
   "cell_type": "code",
   "execution_count": 399,
   "metadata": {},
   "outputs": [],
   "source": [
    "#### Moving Average Convergence Divergence ####\n",
    "def macd(price_data):\n",
    "    price_data['26_ema'] = price_data['Close'].ewm(span=26).mean()\n",
    "    price_data['12_ema'] = price_data['Close'].ewm(span=12).mean()\n",
    "    price_data['MACD'] = price_data['12_ema'] - price_data['26_ema']\n",
    "    price_data['Signal Line'] = price_data[\"MACD\"].ewm(span=9).mean()\n",
    "    price_data['Signal Line Crossover'] = np.where(price_data['MACD'] > price_data['Signal Line'], 1, 0)\n",
    "    price_data['Signal Line Crossover'] = np.where(price_data['MACD'] < price_data['Signal Line'], -1, price_data['Signal Line Crossover'])\n",
    "    price_data['Centerline Crossover'] = np.where(price_data['MACD'] > 0, 1, 0)\n",
    "    price_data['Centerline Crossover'] = np.where(price_data['MACD'] < 0, -1, price_data['Centerline Crossover'])\n",
    "    price_data[\"MACD_Indicator\"] = np.sign(price_data['Signal Line Crossover'] - price_data['Signal Line Crossover'].shift(1))\n",
    "\n",
    "    return price_data\n",
    "\n",
    "price_data = macd(price_data)"
   ]
  },
  {
   "cell_type": "code",
   "execution_count": 400,
   "metadata": {},
   "outputs": [],
   "source": [
    "#### Money Flow Index ####\n",
    "def mfi(mfi):\n",
    "    mfi = price_data.copy() \n",
    "\n",
    "    mfi['typical_price'] = (mfi['High'] + mfi['Low'] + mfi['Close'])/3\n",
    "\n",
    "    mfi['raw_money_flow'] = mfi['typical_price']* mfi['Volume']\n",
    "\n",
    "    mfi['shifted_raw_money_flow'] = mfi['raw_money_flow'].shift(1)\n",
    "\n",
    "    mfi['positive_money_flow'] = np.where(mfi['shifted_raw_money_flow'] - mfi['raw_money_flow'] < 0, 1, 0)\n",
    "    mfi['negative_money_flow'] = np.where(mfi['shifted_raw_money_flow'] - mfi['raw_money_flow'] > 0, 1, 0)\n",
    "\n",
    "    mfi[\"money_flow_ratio\"] = mfi.positive_money_flow.rolling(14).sum() / mfi.negative_money_flow.rolling(14).sum()\n",
    "\n",
    "    mfi[\"money_flow_index\"] = 100 - 100/(1+mfi[\"money_flow_ratio\"])\n",
    "    return mfi\n",
    "\n",
    "price_data = mfi(price_data)"
   ]
  },
  {
   "cell_type": "code",
   "execution_count": 401,
   "metadata": {},
   "outputs": [],
   "source": [
    "#### Ichimoku ####\n",
    "def ichimoku(ichimoku):\n",
    "    ichimoku[\"turning_line\"] = (ichimoku.High.rolling(9).max() + ichimoku.Low.rolling(9).min())/2\n",
    "    ichimoku[\"std_line\"] = (ichimoku.High.rolling(26).max() + ichimoku.Low.rolling(26).min())/2\n",
    "    ichimoku[\"leading_span_1\"] = ((ichimoku[\"turning_line\"] + ichimoku[\"std_line\"])/2).shift(26)\n",
    "    ichimoku[\"leading_span_2\"] = ((ichimoku.High.rolling(52).max() + ichimoku.Low.rolling(52).min())/2).shift(26)\n",
    "    return ichimoku\n",
    "\n",
    "price_data = ichimoku(price_data)\n"
   ]
  },
  {
   "cell_type": "code",
   "execution_count": 402,
   "metadata": {},
   "outputs": [],
   "source": [
    "#### Minmax Volume ####\n",
    "def minmax(minmax):\n",
    "    minmax['MIN_Volume'] = minmax['Volume'].rolling(14).min()\n",
    "    minmax['MAX_Volume'] = minmax['Volume'].rolling(14).max()\n",
    "    return minmax\n",
    "\n",
    "price_data = minmax(price_data)\n"
   ]
  },
  {
   "cell_type": "code",
   "execution_count": 403,
   "metadata": {},
   "outputs": [],
   "source": [
    "def william_r(william):\n",
    "    william[\"%R\"] = -100*((william[\"High\"].rolling(14).max()-william[\"Close\"])/(william[\"High\"].rolling(14).max()-william[\"Low\"].rolling(14).min()))\n",
    "    \n",
    "    return william\n",
    "\n",
    "price_data = william_r(price_data)"
   ]
  },
  {
   "cell_type": "code",
   "execution_count": 404,
   "metadata": {},
   "outputs": [],
   "source": [
    "price_data1 = price_data #safe copy"
   ]
  },
  {
   "cell_type": "code",
   "execution_count": 405,
   "metadata": {},
   "outputs": [],
   "source": [
    "####-------------------- Export Dataset for Image Transformation ------------------------------------####"
   ]
  },
  {
   "cell_type": "code",
   "execution_count": 406,
   "metadata": {},
   "outputs": [],
   "source": [
    "#### Drop unnecessary columns (keep just columns relevant for CNN) ####\n",
    "price_data.drop(['Date', 'High', 'Low', 'Open', 'OpenInt', 'Volume'], axis=1, inplace=True)\n",
    "\n",
    "#drop signals (for processing with return pos/neg as target -> compute signals for later use!!)\n",
    "price_data.drop(['rsi_signal', 'aroon_sig', 'abbands_sig',\n",
    "                 'stoch_signal', 'CMF_signal', 'ROC_signal',\n",
    "                 'cci_sig', 'positive_money_flow', 'negative_money_flow', 'money_flow_ratio',\n",
    "                 'money_flow_index', 'MIN_Volume', 'MAX_Volume'], inplace=True, axis=1)\n",
    "\n",
    "price_data['return'] = price_data['Close'].pct_change() #compute daily returns from prices (target)\n",
    "price_data.dropna(axis=0, inplace=True) #drop rows with NAs\n",
    "#price_data.drop('Close', axis=1, inplace=True) # drop raw price development"
   ]
  },
  {
   "cell_type": "code",
   "execution_count": 407,
   "metadata": {},
   "outputs": [],
   "source": [
    "'''\n",
    "The rolling computation of the returns leads to falsely coputed returns as the rolling calculation runs across\n",
    "securities. Therefore, the first datapoint of each security needs to be dropped.\n",
    "'''\n",
    "#create temporary copy for cleaned data\n",
    "price_data_updated = pd.DataFrame(columns = price_data.columns)\n",
    "\n",
    "for s in file_list: # iterate all files that have been incorporated in the dataset\n",
    "    copy = price_data[price_data['security_name']==s] #extract each company from the whole population\n",
    "    copy = copy.iloc[1:, :] #drop the first row of each company (since return falsely computed in these)\n",
    "    price_data_updated = pd.concat([price_data_updated, copy]) #input cleaned set into the clean copy\n",
    "    \n",
    "price_data_updated.drop('security_name', axis=1, inplace=True)\n",
    "price_data = price_data_updated"
   ]
  },
  {
   "cell_type": "code",
   "execution_count": 408,
   "metadata": {},
   "outputs": [],
   "source": [
    "#### Normalizing Values On Column Basis ####\n",
    "from sklearn.preprocessing import MinMaxScaler, OneHotEncoder\n",
    "\n",
    "mm_scaler = MinMaxScaler(feature_range=(0, 1))\n",
    "for col in price_data.columns[:-1]:\n",
    "    price_data[col] = mm_scaler.fit_transform(price_data[col].values.reshape(-1, 1))"
   ]
  },
  {
   "cell_type": "code",
   "execution_count": 409,
   "metadata": {},
   "outputs": [],
   "source": [
    "#### Export to CSV ####\n",
    "price_data.to_csv('/Users/jakob/OneDrive - Universitat Ramón Llull/TechLabsProj/cnn_input/cnn_fullpriceinput.csv')"
   ]
  },
  {
   "cell_type": "code",
   "execution_count": 410,
   "metadata": {},
   "outputs": [],
   "source": [
    "####-------------------- Dataset Exploratory Analysis ------------------------------------####"
   ]
  },
  {
   "cell_type": "code",
   "execution_count": 411,
   "metadata": {},
   "outputs": [
    {
     "data": {
      "image/png": "[encoded data removed]",
      "text/plain": [
       "<Figure size 432x288 with 1 Axes>"
      ]
     },
     "metadata": {
      "needs_background": "light"
     },
     "output_type": "display_data"
    }
   ],
   "source": [
    "plt.hist(price_data_copy['return'], [-.3, -.2, -.1, -.05, -.02, -.01, .01,.02, .05, .1, .2, .3])\n",
    "plt.title('Daily Return Distribution')\n",
    "plt.xlabel('Daily Return')\n",
    "plt.ylabel('Datapoints')\n",
    "plt.show()"
   ]
  },
  {
   "cell_type": "code",
   "execution_count": 412,
   "metadata": {},
   "outputs": [],
   "source": [
    "mean = price_data['return'].mean()\n",
    "median = price_data['return'].median()\n",
    "max_ = price_data['return'].max()\n",
    "min_ = price_data['return'].min()"
   ]
  },
  {
   "cell_type": "code",
   "execution_count": 413,
   "metadata": {},
   "outputs": [
    {
     "name": "stdout",
     "output_type": "stream",
     "text": [
      "MEAN: 0.0\n",
      "MEDIAN: 0.0\n",
      "MAX: 14.0\n",
      "MIN: -0.91\n"
     ]
    }
   ],
   "source": [
    "print(f'MEAN: {round(mean, 2)}')\n",
    "print(f'MEDIAN: {round(median, 2)}')\n",
    "print(f'MAX: {round(max_, 2)}')\n",
    "print(f'MIN: {round(min_, 2)}')"
   ]
  },
  {
   "cell_type": "code",
   "execution_count": null,
   "metadata": {},
   "outputs": [],
   "source": []
  }
 ],
 "metadata": {
  "kernelspec": {
   "display_name": "Python 3",
   "language": "python",
   "name": "python3"
  },
  "language_info": {
   "codemirror_mode": {
    "name": "ipython",
    "version": 3
   },
   "file_extension": ".py",
   "mimetype": "text/x-python",
   "name": "python",
   "nbconvert_exporter": "python",
   "pygments_lexer": "ipython3",
   "version": "3.7.6"
  }
 },
 "nbformat": 4,
 "nbformat_minor": 4
}
