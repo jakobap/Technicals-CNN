{
 "cells": [
  {
   "cell_type": "code",
   "execution_count": 40,
   "metadata": {},
   "outputs": [],
   "source": [
    "# Import Data Manipulation Libraries\n",
    "import numpy as np\n",
    "import pandas as pd\n",
    "\n",
    "#Import Library For Technical Indicators\n",
    "import ta\n",
    "\n",
    "#Import Path Libraries\n",
    "import os\n",
    "from os import listdir\n",
    "from os.path import isfile, join\n",
    "\n",
    "#Importing Runtime Library\n",
    "from tqdm import tqdm"
   ]
  },
  {
   "cell_type": "code",
   "execution_count": 12,
   "metadata": {},
   "outputs": [],
   "source": [
    "####-------------------- Dataset Import ------------------------------------####"
   ]
  },
  {
   "cell_type": "code",
   "execution_count": 13,
   "metadata": {},
   "outputs": [],
   "source": [
    "mypath = \"/Users/jakob/OneDrive - Universitat Ramón Llull/TechLabsProj/cnn_input/stocks_kaggle\"\n",
    "onlyfiles = sorted(listdir(mypath))"
   ]
  },
  {
   "cell_type": "code",
   "execution_count": 14,
   "metadata": {},
   "outputs": [],
   "source": [
    "input_df = pd.DataFrame(columns = ['Date', 'Open', 'High', 'Low', 'Close', 'Volume', 'OpenInt'])"
   ]
  },
  {
   "cell_type": "code",
   "execution_count": 15,
   "metadata": {},
   "outputs": [
    {
     "name": "stderr",
     "output_type": "stream",
     "text": [
      "  7%|▋         | 11/150 [00:00<00:01, 109.08it/s]"
     ]
    },
    {
     "name": "stdout",
     "output_type": "stream",
     "text": [
      "a.us.txt\n",
      "4521\n",
      "aa.us.txt\n",
      "16595\n",
      "aaap.us.txt\n",
      "17100\n",
      "aaba.us.txt\n",
      "22534\n",
      "aac.us.txt\n",
      "23319\n",
      "aal.us.txt\n",
      "24308\n",
      "aamc.us.txt\n",
      "25519\n",
      "aame.us.txt\n",
      "28445\n",
      "aan.us.txt\n",
      "31646\n",
      "aaoi.us.txt\n",
      "32687\n",
      "aaon.us.txt\n",
      "35888\n",
      "aap.us.txt\n",
      "39089\n",
      "aapl.us.txt\n",
      "47453\n",
      "aat.us.txt\n",
      "49170\n",
      "aau.us.txt\n",
      "52347\n",
      "aav.us.txt\n",
      "55546\n",
      "aaww.us.txt\n",
      "58708\n",
      "aaxn.us.txt\n",
      "61909\n",
      "ab.us.txt\n"
     ]
    },
    {
     "name": "stderr",
     "output_type": "stream",
     "text": [
      " 17%|█▋        | 26/150 [00:00<00:01, 84.44it/s] "
     ]
    },
    {
     "name": "stdout",
     "output_type": "stream",
     "text": [
      "65110\n",
      "abac.us.txt\n",
      "66937\n",
      "abax.us.txt\n",
      "70138\n",
      "abb.us.txt\n",
      "73339\n",
      "abbv.us.txt\n",
      "74563\n",
      "abc.us.txt\n",
      "80254\n",
      "abcb.us.txt\n",
      "83455\n",
      "abcd.us.txt\n",
      "85425\n",
      "abco.us.txt\n",
      "88626\n",
      "abdc.us.txt\n",
      "89511\n",
      "abe.us.txt\n",
      "92701\n",
      "abeo.us.txt\n",
      "93430\n",
      "abeow.us.txt\n",
      "93945\n",
      "abev.us.txt\n",
      "96464\n",
      "abg.us.txt\n"
     ]
    },
    {
     "name": "stderr",
     "output_type": "stream",
     "text": [
      " 26%|██▌       | 39/150 [00:00<00:01, 69.84it/s]"
     ]
    },
    {
     "name": "stdout",
     "output_type": "stream",
     "text": [
      "99665\n",
      "abil.us.txt\n",
      "100135\n",
      "abio.us.txt\n",
      "103336\n",
      "ablx.us.txt\n",
      "103349\n",
      "abm.us.txt\n",
      "106550\n",
      "abmd.us.txt\n",
      "109749\n",
      "abr.us.txt\n",
      "112950\n",
      "abr_a.us.txt\n",
      "114094\n",
      "abr_b.us.txt\n",
      "115136\n",
      "abr_c.us.txt\n",
      "115968\n",
      "abrn.us.txt\n",
      "116843\n",
      "abt.us.txt\n",
      "125569\n",
      "abtx.us.txt\n"
     ]
    },
    {
     "name": "stderr",
     "output_type": "stream",
     "text": [
      " 34%|███▍      | 51/150 [00:00<00:01, 57.22it/s]"
     ]
    },
    {
     "name": "stdout",
     "output_type": "stream",
     "text": [
      "126098\n",
      "abus.us.txt\n",
      "128547\n",
      "abx.us.txt\n",
      "136802\n",
      "aby.us.txt\n",
      "137664\n",
      "ac.us.txt\n",
      "138155\n",
      "acad.us.txt\n",
      "141355\n",
      "acbi.us.txt\n",
      "141867\n",
      "acc.us.txt\n",
      "145068\n",
      "acco.us.txt\n",
      "148152\n",
      "accp.us.txt\n",
      "acer.us.txt\n",
      "151277\n",
      "acerw.us.txt\n"
     ]
    },
    {
     "name": "stderr",
     "output_type": "stream",
     "text": [
      " 42%|████▏     | 63/150 [00:01<00:01, 48.77it/s]"
     ]
    },
    {
     "name": "stdout",
     "output_type": "stream",
     "text": [
      "151912\n",
      "acet.us.txt\n",
      "155113\n",
      "acfc.us.txt\n",
      "156665\n",
      "acgl.us.txt\n",
      "159866\n",
      "acglo.us.txt\n",
      "159925\n",
      "acglp.us.txt\n",
      "160205\n",
      "ach.us.txt\n",
      "163394\n",
      "achc.us.txt\n",
      "164910\n",
      "achn.us.txt\n"
     ]
    },
    {
     "name": "stderr",
     "output_type": "stream",
     "text": [
      "\r",
      " 45%|████▌     | 68/150 [00:01<00:01, 46.35it/s]"
     ]
    },
    {
     "name": "stdout",
     "output_type": "stream",
     "text": [
      "167690\n",
      "achv.us.txt\n",
      "170890\n",
      "acia.us.txt\n",
      "171269\n",
      "aciu.us.txt\n",
      "171556\n",
      "aciw.us.txt\n",
      "174757\n",
      "acls.us.txt\n",
      "177958\n",
      "acm.us.txt\n",
      "180606\n",
      "acmr.us.txt\n",
      "180612\n",
      "acn.us.txt\n",
      "183813\n",
      "acnb.us.txt\n"
     ]
    },
    {
     "name": "stderr",
     "output_type": "stream",
     "text": [
      " 52%|█████▏    | 78/150 [00:01<00:01, 42.00it/s]"
     ]
    },
    {
     "name": "stdout",
     "output_type": "stream",
     "text": [
      "186658\n",
      "acor.us.txt\n",
      "189617\n",
      "acp.us.txt\n",
      "191324\n",
      "acre.us.txt\n",
      "192721\n",
      "acrs.us.txt\n",
      "193250\n",
      "acrx.us.txt\n",
      "194924\n",
      "acsf.us.txt\n",
      "195888\n",
      "acsi.us.txt\n",
      "196147\n",
      "acst.us.txt\n"
     ]
    },
    {
     "name": "stderr",
     "output_type": "stream",
     "text": [
      "\r",
      " 55%|█████▌    | 83/150 [00:01<00:01, 39.82it/s]"
     ]
    },
    {
     "name": "stdout",
     "output_type": "stream",
     "text": [
      "197357\n",
      "acta.us.txt\n",
      "200558\n",
      "actg.us.txt\n",
      "203759\n",
      "acu.us.txt\n",
      "206843\n",
      "acv.us.txt\n",
      "207468\n",
      "acxm.us.txt\n",
      "210669\n",
      "acy.us.txt\n",
      "213708\n",
      "adap.us.txt\n"
     ]
    },
    {
     "name": "stderr",
     "output_type": "stream",
     "text": [
      " 61%|██████▏   | 92/150 [00:01<00:01, 35.44it/s]"
     ]
    },
    {
     "name": "stdout",
     "output_type": "stream",
     "text": [
      "214345\n",
      "adbe.us.txt\n",
      "222221\n",
      "adc.us.txt\n",
      "225422\n",
      "ades.us.txt\n",
      "225762\n",
      "adhd.us.txt\n",
      "226891\n",
      "adi.us.txt\n",
      "235289\n",
      "adm.us.txt\n"
     ]
    },
    {
     "name": "stderr",
     "output_type": "stream",
     "text": [
      "\r",
      " 64%|██████▍   | 96/150 [00:01<00:01, 31.82it/s]"
     ]
    },
    {
     "name": "stdout",
     "output_type": "stream",
     "text": [
      "244015\n",
      "adma.us.txt\n",
      "244770\n",
      "admp.us.txt\n",
      "250240\n",
      "adms.us.txt\n",
      "251146\n",
      "adnt.us.txt\n",
      "251405\n",
      "adom.us.txt\n",
      "251510\n",
      "adp.us.txt\n"
     ]
    },
    {
     "name": "stderr",
     "output_type": "stream",
     "text": [
      " 69%|██████▉   | 104/150 [00:02<00:01, 28.48it/s]"
     ]
    },
    {
     "name": "stdout",
     "output_type": "stream",
     "text": [
      "260234\n",
      "adro.us.txt\n",
      "260886\n",
      "ads.us.txt\n",
      "264087\n",
      "adsk.us.txt\n",
      "272245\n",
      "adsw.us.txt\n",
      "272523\n",
      "adtn.us.txt\n",
      "275724\n",
      "adus.us.txt\n"
     ]
    },
    {
     "name": "stderr",
     "output_type": "stream",
     "text": [
      " 73%|███████▎  | 110/150 [00:02<00:01, 26.32it/s]"
     ]
    },
    {
     "name": "stdout",
     "output_type": "stream",
     "text": [
      "277746\n",
      "advm.us.txt\n",
      "278575\n",
      "adx.us.txt\n",
      "281776\n",
      "adxs.us.txt\n",
      "284730\n",
      "adxsw.us.txt\n",
      "285712\n",
      "ae.us.txt\n"
     ]
    },
    {
     "name": "stderr",
     "output_type": "stream",
     "text": [
      "\r",
      " 75%|███████▌  | 113/150 [00:02<00:01, 26.00it/s]"
     ]
    },
    {
     "name": "stdout",
     "output_type": "stream",
     "text": [
      "288901\n",
      "aeb.us.txt\n",
      "290720\n",
      "aed.us.txt\n",
      "292539\n",
      "aee.us.txt\n",
      "297534\n",
      "aeg.us.txt\n",
      "300735\n",
      "aegn.us.txt\n"
     ]
    },
    {
     "name": "stderr",
     "output_type": "stream",
     "text": [
      " 79%|███████▉  | 119/150 [00:02<00:01, 24.60it/s]"
     ]
    },
    {
     "name": "stdout",
     "output_type": "stream",
     "text": [
      "302256\n",
      "aeh.us.txt\n",
      "304075\n",
      "aehr.us.txt\n",
      "307194\n",
      "aeis.us.txt\n",
      "310395\n",
      "aek.us.txt\n",
      "311845\n",
      "ael.us.txt\n"
     ]
    },
    {
     "name": "stderr",
     "output_type": "stream",
     "text": [
      "\r",
      " 81%|████████▏ | 122/150 [00:03<00:01, 23.48it/s]"
     ]
    },
    {
     "name": "stdout",
     "output_type": "stream",
     "text": [
      "315046\n",
      "aem.us.txt\n",
      "323404\n",
      "aemd.us.txt\n",
      "323994\n",
      "aeo.us.txt\n",
      "327195\n",
      "aep.us.txt\n"
     ]
    },
    {
     "name": "stderr",
     "output_type": "stream",
     "text": [
      " 85%|████████▌ | 128/150 [00:03<00:01, 21.45it/s]"
     ]
    },
    {
     "name": "stdout",
     "output_type": "stream",
     "text": [
      "339270\n",
      "aer.us.txt\n",
      "342033\n",
      "aeri.us.txt\n",
      "343053\n",
      "aes.us.txt\n",
      "349699\n",
      "aet.us.txt\n"
     ]
    },
    {
     "name": "stderr",
     "output_type": "stream",
     "text": [
      "\r",
      " 87%|████████▋ | 131/150 [00:03<00:00, 20.46it/s]"
     ]
    },
    {
     "name": "stdout",
     "output_type": "stream",
     "text": [
      "360005\n",
      "aeti.us.txt\n",
      "363092\n",
      "aeua.us.txt\n",
      "363704\n",
      "aey.us.txt\n",
      "366848\n",
      "aezs.us.txt\n",
      "370049\n",
      "afam.us.txt\n"
     ]
    },
    {
     "name": "stderr",
     "output_type": "stream",
     "text": [
      " 91%|█████████▏| 137/150 [00:03<00:00, 19.91it/s]"
     ]
    },
    {
     "name": "stdout",
     "output_type": "stream",
     "text": [
      "373220\n",
      "afb.us.txt\n",
      "376421\n",
      "afc.us.txt\n",
      "378239\n",
      "afg.us.txt\n",
      "381440\n",
      "afge.us.txt\n"
     ]
    },
    {
     "name": "stderr",
     "output_type": "stream",
     "text": [
      "\r",
      " 93%|█████████▎| 140/150 [00:04<00:00, 18.73it/s]"
     ]
    },
    {
     "name": "stdout",
     "output_type": "stream",
     "text": [
      "382229\n",
      "afgh.us.txt\n",
      "382728\n",
      "afh.us.txt\n",
      "383920\n",
      "afhbl.us.txt\n",
      "384004\n",
      "afi.us.txt\n"
     ]
    },
    {
     "name": "stderr",
     "output_type": "stream",
     "text": [
      " 96%|█████████▌| 144/150 [00:04<00:00, 18.28it/s]"
     ]
    },
    {
     "name": "stdout",
     "output_type": "stream",
     "text": [
      "384411\n",
      "afl.us.txt\n",
      "392809\n",
      "afmd.us.txt\n",
      "393608\n",
      "afsd.us.txt\n",
      "394898\n",
      "afsi.us.txt\n"
     ]
    },
    {
     "name": "stderr",
     "output_type": "stream",
     "text": [
      " 99%|█████████▊| 148/150 [00:04<00:00, 18.48it/s]"
     ]
    },
    {
     "name": "stdout",
     "output_type": "stream",
     "text": [
      "397665\n",
      "afsi_a.us.txt\n",
      "398346\n",
      "afsi_b.us.txt\n",
      "399024\n",
      "afsi_c.us.txt\n",
      "399701\n",
      "afsi_d.us.txt\n"
     ]
    },
    {
     "name": "stderr",
     "output_type": "stream",
     "text": [
      "100%|██████████| 150/150 [00:04<00:00, 32.87it/s]"
     ]
    },
    {
     "name": "stdout",
     "output_type": "stream",
     "text": [
      "400369\n"
     ]
    },
    {
     "name": "stderr",
     "output_type": "stream",
     "text": [
      "\n"
     ]
    }
   ],
   "source": [
    "## merging files in one df ##\n",
    "\n",
    "for file in tqdm(onlyfiles[:150]):\n",
    "    print(file)\n",
    "    filesize = os.path.getsize(f'{mypath}/{file}')\n",
    "    \n",
    "    if filesize == 0:\n",
    "        pass\n",
    "    else:\n",
    "        price_data = pd.read_csv(f'{mypath}/{file}')\n",
    "        input_df = pd.concat([input_df, price_data])\n",
    "        print(len(input_df))\n",
    "        \n",
    "price_data = input_df"
   ]
  },
  {
   "cell_type": "code",
   "execution_count": 16,
   "metadata": {},
   "outputs": [],
   "source": [
    "####-------------------- Technical Implementation ------------------------------------####"
   ]
  },
  {
   "cell_type": "code",
   "execution_count": 17,
   "metadata": {},
   "outputs": [],
   "source": [
    "#### RSI - Relative Strength Index ####\n",
    "def rsi(price_data, price_index, lookback=14):\n",
    "    \n",
    "    def rsi_inner(data):   \n",
    "        gain = data[data>0].mean()\n",
    "        loss = -1*data[data<0].mean()    \n",
    "        return 100 * gain / (gain + loss)\n",
    "    \n",
    "    price_data['return'] = ((price_data.iloc[:, price_index] / price_data.iloc[:, price_index].shift(1)) -1).fillna(0)\n",
    "    price_data['rsi'] = price_data['return'].rolling(center=False, window=lookback).apply(rsi_inner).fillna(0)\n",
    "    \n",
    "    #defining buy and sell signal threshold\n",
    "    rsi_buy = 30\n",
    "    rsi_sell = 70\n",
    "    \n",
    "    #apply signals as additional feature\n",
    "    price_data['rsi_signal'] = 0 #neutral signal\n",
    "    price_data.loc[price_data['rsi'] < rsi_buy , 'rsi_signal'] = 1 #buy signal\n",
    "    price_data.loc[price_data['rsi'] > rsi_sell , 'rsi_signal'] = -1 #sell signal\n",
    "    \n",
    "    price_data.drop(['return'], axis=1, inplace=True)\n",
    "    return price_data\n",
    "\n",
    "#price_data = rsi(price_data, price_index = 2)\n",
    "price_data = rsi(price_data, price_index = 2)"
   ]
  },
  {
   "cell_type": "code",
   "execution_count": 18,
   "metadata": {},
   "outputs": [],
   "source": [
    "#### Bollinger Bands ####\n",
    "def bbands(data, price_index, length=30, numsd=2):\n",
    "    \"\"\" returns average, upper band, and lower band\"\"\"\n",
    "    #ave = pd.stats.moments.rolling_mean(price,length)\n",
    "    ave = data.iloc[:, price_index].rolling(window = length, center = False).mean()\n",
    "    #sd = pd.stats.moments.rolling_std(price,length)\n",
    "    sd = data.iloc[:, price_index].rolling(window = length, center = False).std()\n",
    "    upband = ave + (sd*numsd)\n",
    "    dnband = ave - (sd*numsd)\n",
    "    \n",
    "    data['bb_upper'] = np.round(upband,3)\n",
    "    data['bb_mid'] = np.round(ave,3)\n",
    "    data['bb_lower'] = np.round(dnband,3)\n",
    "    return data\n",
    "\n",
    "price_data = bbands(price_data, 2)"
   ]
  },
  {
   "cell_type": "code",
   "execution_count": 19,
   "metadata": {},
   "outputs": [],
   "source": [
    "#### Volume (Plain) ####\n",
    "def volume (data):\n",
    "    data['Volume'].fillna(0)\n",
    "    return data\n",
    "\n",
    "price_data = volume(price_data)"
   ]
  },
  {
   "cell_type": "code",
   "execution_count": 20,
   "metadata": {},
   "outputs": [],
   "source": [
    "#### Aroon Oscillator ####\n",
    "def aroon(df, tf=25, high='High', low='Low'):\n",
    "    aroonup = []\n",
    "    aroondown = []\n",
    "    x = tf\n",
    "    \n",
    "    #fill up dataframe with 0 for values below time threshold\n",
    "    aroonup = [0] * tf\n",
    "    aroondown = [0] * tf\n",
    "        \n",
    "    while x < len(df['Date']):\n",
    "        aroon_up = ((df[high][x-tf:x].tolist().index(max(df[high][x-tf:x])))/float(tf))*100\n",
    "        aroon_down = ((df[low][x-tf:x].tolist().index(min(df[low][x-tf:x])))/float(tf))*100\n",
    "        aroonup.append(aroon_up)\n",
    "        aroondown.append(aroon_down)\n",
    "        x+=1\n",
    "    \n",
    "    df['aroonup'] = aroonup\n",
    "    df['aroondown'] = aroondown\n",
    "    \n",
    "    ##Implement Trading Signals\n",
    "    #When the Aroon Up is above the Aroon Down, it indicates bullish price behavior.\n",
    "    #When the Aroon Down is above the Aroon Up, it signals bearish price behavior.\n",
    "    df['aroon_sig'] = 0 \n",
    "    df.loc[df['aroonup'] > df['aroondown'], 'aroon_sig'] = 1 #buy signal\n",
    "    df.loc[df['aroondown'] > df['aroonup'], 'aroon_sig'] = -1\n",
    "    return df\n",
    "\n",
    "\n",
    "#price_data = pd.read_csv('./cnn_input/stocks_kaggle/abio.us.txt')\n",
    "#price_data = aroon(price_data)\n",
    "price_data = aroon(price_data, high='High', low='Low')"
   ]
  },
  {
   "cell_type": "code",
   "execution_count": 21,
   "metadata": {},
   "outputs": [],
   "source": [
    "#### Price-Volume-Trend-Indicator ####\n",
    "def pvt(data, signal_len = 14):\n",
    "    data['momentum'] = (data['Close'] - data['Close'].shift(1)).fillna(0)\n",
    "    data[\"PVT\"] = (data['momentum'] / data['Close'].shift(1))*data['Volume']\n",
    "    data[\"PVT\"] = data[\"PVT\"]-data[\"PVT\"].shift(1)\n",
    "    data[\"PVT\"] = data[\"PVT\"].fillna(0)\n",
    "    \n",
    "    ##Implement Trading Signals\n",
    "    data['pvt_movmean'] = data['PVT'].rolling(signal_len).mean() #signal line as moving average \n",
    "    data['pvt_signal'] = 0\n",
    "    data.loc[data['PVT'] > data['pvt_movmean'], 'pvt_signal'] = 1 #buy signal\n",
    "    data.loc[data['PVT'] < data['pvt_movmean'], 'pvt_signal'] = -1 #sell signal\n",
    "    \n",
    "    data.drop(['momentum'], axis = 1, inplace = True)\n",
    "    return data\n",
    "\n",
    "#price_data = pvt(price_data)"
   ]
  },
  {
   "cell_type": "code",
   "execution_count": 22,
   "metadata": {},
   "outputs": [],
   "source": [
    "#### Acceleration Bands ####\n",
    "def abands(df, window = 20, high='High', low='Low'):\n",
    "    \n",
    "    df['AB_Middle_Band'] = df['Close'].rolling(window = window, center=False).mean()\n",
    "    \n",
    "    # High * ( 1 + 4 * (High - Low) / (High + Low))\n",
    "    df['aupband'] = df[high] * (1 + 4 * (df[high]-df[low])/(df[high]+df[low]))\n",
    "    df['AB_Upper_Band'] = df['aupband'].rolling(window=window, center=False).mean()\n",
    "        \n",
    "    # Low *(1 - 4 * (High - Low)/ (High + Low))\n",
    "    df['adownband'] = df[low] * (1 - 4 * (df[high]-df[low])/(df[high]+df[low]))\n",
    "    df['AB_Lower_Band'] = df['adownband'].rolling(window=window, center=False).mean()\n",
    "    \n",
    "    ##Implement Trading Signals\n",
    "    df['abbands_sig'] = 0\n",
    "    df.loc[df[high] > df['AB_Upper_Band'], 'abbands_sig'] = 1 #buy signal\n",
    "    df.loc[df[low] > df['AB_Lower_Band'], 'abbands_sig'] = -1 #sell signal \n",
    "    \n",
    "    df.drop(['adownband', 'aupband'], axis = 1, inplace = True) \n",
    "    return df\n",
    "    \n",
    "price_data = abands(price_data, high='High', low='Low')"
   ]
  },
  {
   "cell_type": "code",
   "execution_count": 23,
   "metadata": {},
   "outputs": [],
   "source": [
    "#### Stochastic ####\n",
    "def stochastic (price_data):\n",
    "    \n",
    "    # Creating %k \n",
    "    price_data['stoch_k'] = ta.momentum.stoch(high = price_data['High'], low = price_data['Low'], \n",
    "                                                 close = price_data['Close'], n=14, d_n=3, fillna=False)\n",
    "    \n",
    "    # Creating %d\n",
    "    price_data['stoch_d'] = ta.momentum.stoch_signal(high = price_data['High'], low = price_data['Low'], \n",
    "                                                 close = price_data['Close'], n=14, d_n=3, fillna=False)\n",
    "    \n",
    "    # Setting the stoch_signal to 0 for neutral indication\n",
    "    price_data['stoch_signal'] = 0\n",
    "    \n",
    "    # If stoch_k or stoch_d is over 80, then there is a signal to sell (overbought conditions)\n",
    "    # So when either is over 80, and then stoch_k crosses stoch_d from below, then sell  -1\n",
    "    price_data.loc[((price_data['stoch_k'] < price_data['stoch_d']) & (price_data['stoch_k'].shift(1) > price_data['stoch_d'].shift(1))) & (price_data['stoch_d'] > 80), 'stoch_signal'] = '-1'\n",
    "    \n",
    "    # If stoch_k or stoch_d is less than 20, then there is a signal to buy\n",
    "    # So when either is less than 20, and then stoch_k crosses stoch_d from above, then buy  1\n",
    "    price_data.loc[((price_data['stoch_k'] > price_data['stoch_d']) & (price_data['stoch_k'].shift(1) < price_data['stoch_d'].shift(1))) & (price_data['stoch_d'] < 20), 'stoch_signal'] = '1'  \n",
    "    \n",
    "    # Drop stoch_k and stoch_d\n",
    "    #price_data  = price_data.drop(['stoch_k', 'stoch_d'], axis=1)\n",
    "    \n",
    "    # Making stoch_signal numeric\n",
    "    price_data['stoch_signal'] = pd.to_numeric(price_data['stoch_signal'])\n",
    "    \n",
    "    return price_data\n",
    "\n",
    "price_data = stochastic(price_data)"
   ]
  },
  {
   "cell_type": "code",
   "execution_count": 24,
   "metadata": {},
   "outputs": [],
   "source": [
    "#### Chaikin Money Flow ####\n",
    "\n",
    "def chaikin_money_flow (price_data):\n",
    "    \n",
    "    # n = 20 days as the standard\n",
    "    price_data['CMF'] = ta.volume.chaikin_money_flow(high = price_data['High'], low = price_data['Low'], \n",
    "                                                                close = price_data['Close'], \n",
    "                                                                volume = price_data['Volume'], n = 20)\n",
    "    # Buy & sell signals\n",
    "    signs = np.sign(price_data.CMF)\n",
    "    price_data['CMF_signal'] = np.sign(signs.diff()).fillna(0)\n",
    "\n",
    "    # Making CMF_signal numeric\n",
    "    price_data['CMF_signal'] = pd.to_numeric(price_data['CMF_signal'])\n",
    "    \n",
    "    return price_data\n",
    "\n",
    "price_data = chaikin_money_flow(price_data)"
   ]
  },
  {
   "cell_type": "code",
   "execution_count": 25,
   "metadata": {},
   "outputs": [],
   "source": [
    "#### Rate of Change ####\n",
    "\n",
    "def rate_of_change(price_data, n = 9):\n",
    "    \n",
    "    \"\"\"\n",
    "    :param price_data: pandas.DataFrame\n",
    "    :param n: 9,14,25 days common for short term traders\n",
    "    :return: pandas.DataFrame\n",
    "    :sell signal: from positive to negative \n",
    "    \"buy signal: from negative to postive\"\n",
    "    \"\"\"\n",
    "    \n",
    "    M = price_data['Close'].diff(n - 1)\n",
    "    N = price_data['Close'].shift(n - 1)\n",
    "    ROC = pd.Series(M / N, name='ROC')\n",
    "    price_data['ROC'] = ROC\n",
    "    \n",
    "    # Buy & sell signals\n",
    "    signs = np.sign(price_data.ROC)\n",
    "    price_data['ROC_signal'] = np.sign(signs.diff()).fillna(0)\n",
    "    \n",
    "    # Making ROC_signal numeric\n",
    "    price_data['ROC_signal'] = pd.to_numeric(price_data['ROC_signal'])\n",
    "    \n",
    "    return price_data\n",
    "\n",
    "price_data = rate_of_change(price_data)"
   ]
  },
  {
   "cell_type": "code",
   "execution_count": 26,
   "metadata": {},
   "outputs": [],
   "source": [
    "#### Commodity Channel Index####\n",
    "def CCI(data, ndays=14): \n",
    "    TP = (data['High'] + data['Low'] + data['Close']) / 3 \n",
    "    CCI = pd.Series((TP - TP.rolling(ndays).mean()) / (0.015*TP.rolling(ndays).std()),\n",
    "                    name = 'CCI') \n",
    "    \n",
    "    data['CCI'] = CCI\n",
    "    #defining buy and sell signal threshold\n",
    "    cci_buy = 100\n",
    "    cci_sell = -100\n",
    "    #apply signals as additional feature\n",
    "    price_data['cci_sig'] = 0 #neutral signal\n",
    "    price_data.loc[price_data['CCI' ] > cci_buy , 'cci_sig'] = 1 #buy signal\n",
    "    price_data.loc[price_data['CCI'] < cci_sell , 'cci_sig'] = -1 #sell signal\n",
    "    \n",
    "    return data\n",
    "\n",
    "price_data = CCI(price_data)"
   ]
  },
  {
   "cell_type": "code",
   "execution_count": 27,
   "metadata": {},
   "outputs": [],
   "source": [
    "#### Keltner Channels ####\n",
    "\n",
    "def keltner_channel(df, n=14):\n",
    "    KelChM = pd.Series(((df['High'] + df['Low'] + df['Close']) / 3).rolling(n, min_periods=n).mean(),\n",
    "                       name='KelChM_' + str(n))\n",
    "    KelChU = pd.Series(((4 * df['High'] - 2 * df['Low'] + df['Close']) / 3).rolling(n, min_periods=n).mean(),\n",
    "                       name='KelChU_' + str(n))\n",
    "    KelChD = pd.Series(((-2 * df['High'] + 4 * df['Low'] + df['Close']) / 3).rolling(n, min_periods=n).mean(),\n",
    "                       name='KelChD_' + str(n))\n",
    "    df['KelChM'] = KelChM\n",
    "    df['KelChU'] = KelChU\n",
    "    df['KelChD'] = KelChD\n",
    "    return df\n",
    "\n",
    "price_data = keltner_channel(price_data)"
   ]
  },
  {
   "cell_type": "code",
   "execution_count": 28,
   "metadata": {},
   "outputs": [],
   "source": [
    "#### Exponential Moving Average ####\n",
    "def exponential_moving_average(df, n=14):\n",
    "    \n",
    "    EMA = pd.Series(df['Close'].ewm(span=n, min_periods=n).mean(), name='EMA_' + str(n))\n",
    "    df['EMA'] = EMA\n",
    "    return df\n",
    "\n",
    "price_data = exponential_moving_average(price_data)"
   ]
  },
  {
   "cell_type": "code",
   "execution_count": 29,
   "metadata": {},
   "outputs": [],
   "source": [
    "#### Moving Average Convergence Divergence ####\n",
    "def macd(price_data):\n",
    "    price_data['26_ema'] = price_data['Close'].ewm(span=26).mean()\n",
    "    price_data['12_ema'] = price_data['Close'].ewm(span=12).mean()\n",
    "    price_data['MACD'] = price_data['12_ema'] - price_data['26_ema']\n",
    "    price_data['Signal Line'] = price_data[\"MACD\"].ewm(span=9).mean()\n",
    "    price_data['Signal Line Crossover'] = np.where(price_data['MACD'] > price_data['Signal Line'], 1, 0)\n",
    "    price_data['Signal Line Crossover'] = np.where(price_data['MACD'] < price_data['Signal Line'], -1, price_data['Signal Line Crossover'])\n",
    "    price_data['Centerline Crossover'] = np.where(price_data['MACD'] > 0, 1, 0)\n",
    "    price_data['Centerline Crossover'] = np.where(price_data['MACD'] < 0, -1, price_data['Centerline Crossover'])\n",
    "    price_data[\"MACD_Indicator\"] = np.sign(price_data['Signal Line Crossover'] - price_data['Signal Line Crossover'].shift(1))\n",
    "\n",
    "    return price_data\n",
    "\n",
    "price_data = macd(price_data)"
   ]
  },
  {
   "cell_type": "code",
   "execution_count": 30,
   "metadata": {},
   "outputs": [],
   "source": [
    "#### Money Flow Index ####\n",
    "def mfi(mfi):\n",
    "    mfi = price_data.copy() \n",
    "\n",
    "    mfi['typical_price'] = (mfi['High'] + mfi['Low'] + mfi['Close'])/3\n",
    "\n",
    "    mfi['raw_money_flow'] = mfi['typical_price']* mfi['Volume']\n",
    "\n",
    "    mfi['shifted_raw_money_flow'] = mfi['raw_money_flow'].shift(1)\n",
    "\n",
    "    mfi['positive_money_flow'] = np.where(mfi['shifted_raw_money_flow'] - mfi['raw_money_flow'] < 0, 1, 0)\n",
    "    mfi['negative_money_flow'] = np.where(mfi['shifted_raw_money_flow'] - mfi['raw_money_flow'] > 0, 1, 0)\n",
    "\n",
    "    mfi[\"money_flow_ratio\"] = mfi.positive_money_flow.rolling(14).sum() / mfi.negative_money_flow.rolling(14).sum()\n",
    "\n",
    "    mfi[\"money_flow_index\"] = 100 - 100/(1+mfi[\"money_flow_ratio\"])\n",
    "    return mfi\n",
    "\n",
    "price_data = mfi(price_data)"
   ]
  },
  {
   "cell_type": "code",
   "execution_count": 31,
   "metadata": {},
   "outputs": [],
   "source": [
    "#### Ichimoku ####\n",
    "def ichimoku(ichimoku):\n",
    "    ichimoku[\"turning_line\"] = (ichimoku.High.rolling(9).max() + ichimoku.Low.rolling(9).min())/2\n",
    "    ichimoku[\"std_line\"] = (ichimoku.High.rolling(26).max() + ichimoku.Low.rolling(26).min())/2\n",
    "    ichimoku[\"leading_span_1\"] = ((ichimoku[\"turning_line\"] + ichimoku[\"std_line\"])/2).shift(26)\n",
    "    ichimoku[\"leading_span_2\"] = ((ichimoku.High.rolling(52).max() + ichimoku.Low.rolling(52).min())/2).shift(26)\n",
    "    return ichimoku\n",
    "\n",
    "price_data = ichimoku(price_data)\n"
   ]
  },
  {
   "cell_type": "code",
   "execution_count": 32,
   "metadata": {},
   "outputs": [],
   "source": [
    "#### Minmax Volume ####\n",
    "def minmax(minmax):\n",
    "    minmax['MIN_Volume'] = minmax['Volume'].rolling(14).min()\n",
    "    minmax['MAX_Volume'] = minmax['Volume'].rolling(14).max()\n",
    "    return minmax\n",
    "\n",
    "price_data = minmax(price_data)\n"
   ]
  },
  {
   "cell_type": "code",
   "execution_count": 33,
   "metadata": {},
   "outputs": [],
   "source": [
    "def william_r(william):\n",
    "    william[\"%R\"] = -100*((william[\"High\"].rolling(14).max()-william[\"Close\"])/(william[\"High\"].rolling(14).max()-william[\"Low\"].rolling(14).min()))\n",
    "    \n",
    "    return william\n",
    "\n",
    "price_data = william_r(price_data)"
   ]
  },
  {
   "cell_type": "code",
   "execution_count": 34,
   "metadata": {},
   "outputs": [],
   "source": [
    "####-------------------- Export Dataset for Image Transformation ------------------------------------####"
   ]
  },
  {
   "cell_type": "code",
   "execution_count": 35,
   "metadata": {},
   "outputs": [],
   "source": [
    "#### Drop unnecessary columns (keep just columns relevant for CNN) ####\n",
    "price_data.drop(['Date', 'High', 'Low', 'Open', 'OpenInt', 'Volume'], axis=1, inplace=True)\n",
    "\n",
    "#drop signals (for processing with return pos/neg as target -> compute signals for later use!!)\n",
    "price_data.drop(['rsi_signal', 'aroon_sig', 'abbands_sig',\n",
    "                 'stoch_signal', 'CMF_signal', 'ROC_signal',\n",
    "                 'cci_sig', 'positive_money_flow', 'negative_money_flow', 'money_flow_ratio',\n",
    "                 'money_flow_index', 'MIN_Volume', 'MAX_Volume'], inplace=True, axis=1)\n",
    "\n",
    "price_data['return'] = price_data['Close'].pct_change() #compute daily returns from prices (target)\n",
    "price_data.dropna(axis=0, inplace=True) #drop rows with NAs\n",
    "price_data.drop('Close', axis=1, inplace=True) # drop raw price development"
   ]
  },
  {
   "cell_type": "code",
   "execution_count": 36,
   "metadata": {},
   "outputs": [],
   "source": [
    "price_data_copy = price_data #security copy"
   ]
  },
  {
   "cell_type": "code",
   "execution_count": 37,
   "metadata": {},
   "outputs": [],
   "source": [
    "#### Normalizing Values On Column Basis ####\n",
    "from sklearn.preprocessing import MinMaxScaler, OneHotEncoder\n",
    "\n",
    "mm_scaler = MinMaxScaler(feature_range=(0, 1))\n",
    "for col in price_data.columns[:-1]:\n",
    "    price_data_copy[col] = mm_scaler.fit_transform(price_data_copy[col].values.reshape(-1, 1))"
   ]
  },
  {
   "cell_type": "code",
   "execution_count": 39,
   "metadata": {},
   "outputs": [],
   "source": [
    "#### Export to CSV ####\n",
    "price_data_copy.to_csv('/Users/jakob/OneDrive - Universitat Ramón Llull/TechLabsProj/cnn_input/cnn_fullpriceinput.csv')"
   ]
  },
  {
   "cell_type": "code",
   "execution_count": null,
   "metadata": {},
   "outputs": [],
   "source": []
  }
 ],
 "metadata": {
  "kernelspec": {
   "display_name": "Python 3",
   "language": "python",
   "name": "python3"
  },
  "language_info": {
   "codemirror_mode": {
    "name": "ipython",
    "version": 3
   },
   "file_extension": ".py",
   "mimetype": "text/x-python",
   "name": "python",
   "nbconvert_exporter": "python",
   "pygments_lexer": "ipython3",
   "version": "3.7.6"
  }
 },
 "nbformat": 4,
 "nbformat_minor": 4
}
