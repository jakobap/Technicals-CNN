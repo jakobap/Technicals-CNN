{
 "cells": [
  {
   "cell_type": "code",
   "execution_count": 75,
   "metadata": {},
   "outputs": [
    {
     "data": {
      "text/plain": [
       "'\\nTensorflow Image Data import needs tf-nightly (nightly updated build) package: \\npip install tf-nightly\\n'"
      ]
     },
     "execution_count": 75,
     "metadata": {},
     "output_type": "execute_result"
    }
   ],
   "source": [
    "import tensorflow as tf\n",
    "\n",
    "import keras\n",
    "from tensorflow.keras import Sequential\n",
    "from keras.layers import Activation, Dense, Dropout\n",
    "from tensorflow.keras.layers import Conv2D, Flatten, Dense, MaxPooling2D, Dropout\n",
    "\n",
    "import pandas as pd\n",
    "import numpy as np\n",
    "\n",
    "import sklearn\n",
    "from sklearn.preprocessing import Binarizer\n",
    "\n",
    "'''\n",
    "Tensorflow Image Data import needs tf-nightly (nightly updated build) package: \n",
    "pip install tf-nightly\n",
    "'''"
   ]
  },
  {
   "cell_type": "code",
   "execution_count": 77,
   "metadata": {},
   "outputs": [],
   "source": [
    "#### Data Preparation ####"
   ]
  },
  {
   "cell_type": "code",
   "execution_count": 78,
   "metadata": {},
   "outputs": [],
   "source": [
    "y_train = pd.read_csv('./cnn_input/y_train.csv')\n",
    "y_test = pd.read_csv('./cnn_input/y_test.csv')"
   ]
  },
  {
   "cell_type": "code",
   "execution_count": 79,
   "metadata": {},
   "outputs": [],
   "source": [
    "y_train = y_train.values\n",
    "y_test = y_test.values"
   ]
  },
  {
   "cell_type": "code",
   "execution_count": 80,
   "metadata": {},
   "outputs": [],
   "source": [
    "sklearn.preprocessing.Binarizer(threshold=0.0, copy=False)\n",
    "\n",
    "y_train = Binarizer().fit_transform(y_train.reshape(1, -1))[0]\n",
    "y_test = Binarizer().fit_transform(y_test.reshape(1, -1))[0]"
   ]
  },
  {
   "cell_type": "code",
   "execution_count": 81,
   "metadata": {},
   "outputs": [
    {
     "data": {
      "text/plain": [
       "320228"
      ]
     },
     "execution_count": 81,
     "metadata": {},
     "output_type": "execute_result"
    }
   ],
   "source": [
    "len(y_train)"
   ]
  },
  {
   "cell_type": "code",
   "execution_count": 82,
   "metadata": {},
   "outputs": [
    {
     "data": {
      "text/plain": [
       "80057"
      ]
     },
     "execution_count": 82,
     "metadata": {},
     "output_type": "execute_result"
    }
   ],
   "source": [
    "len(y_test)"
   ]
  },
  {
   "cell_type": "code",
   "execution_count": 83,
   "metadata": {},
   "outputs": [],
   "source": [
    "y_train = list(map(int, y_train))\n",
    "y_test = list(map(int, y_test))"
   ]
  },
  {
   "cell_type": "code",
   "execution_count": 94,
   "metadata": {},
   "outputs": [],
   "source": [
    "batch_size = 300\n",
    "train_dir = './cnn_input/pyplot_labelling/x_train'\n",
    "test_dir = './cnn_input/pyplot_labelling/x_test'"
   ]
  },
  {
   "cell_type": "code",
   "execution_count": 95,
   "metadata": {},
   "outputs": [
    {
     "data": {
      "text/plain": [
       "5853"
      ]
     },
     "execution_count": 95,
     "metadata": {},
     "output_type": "execute_result"
    }
   ],
   "source": [
    "import os\n",
    "cpt = sum([len(files) for r, d, files in os.walk(train_dir)])\n",
    "cpt"
   ]
  },
  {
   "cell_type": "code",
   "execution_count": 96,
   "metadata": {},
   "outputs": [
    {
     "name": "stdout",
     "output_type": "stream",
     "text": [
      "Found 5850 files belonging to 2 classes.\n"
     ]
    }
   ],
   "source": [
    "x_train = tf.keras.preprocessing.image_dataset_from_directory(\n",
    "    train_dir,\n",
    "    labels='inferred',\n",
    "    label_mode='categorical',\n",
    "    color_mode=\"grayscale\",\n",
    "    batch_size=batch_size,\n",
    "    image_size=(6, 6),\n",
    "    shuffle=True,\n",
    "    seed=None,\n",
    "    validation_split=None,\n",
    "    subset=None,\n",
    "    interpolation=\"bilinear\",\n",
    "    follow_links=False,\n",
    ")"
   ]
  },
  {
   "cell_type": "code",
   "execution_count": 97,
   "metadata": {},
   "outputs": [
    {
     "name": "stdout",
     "output_type": "stream",
     "text": [
      "Found 2211 files belonging to 2 classes.\n"
     ]
    }
   ],
   "source": [
    "x_test = tf.keras.preprocessing.image_dataset_from_directory(\n",
    "    test_dir,\n",
    "    labels='inferred',\n",
    "    label_mode='categorical',\n",
    "    color_mode=\"grayscale\",\n",
    "    batch_size=batch_size,\n",
    "    image_size=(6, 6),\n",
    "    shuffle=True,\n",
    "    seed=None,\n",
    "    validation_split=None,\n",
    "    subset=None,\n",
    "    interpolation=\"bilinear\",\n",
    "    follow_links=False,\n",
    ")"
   ]
  },
  {
   "cell_type": "code",
   "execution_count": 98,
   "metadata": {},
   "outputs": [],
   "source": [
    "#### Building the Neural Net ####"
   ]
  },
  {
   "cell_type": "code",
   "execution_count": 99,
   "metadata": {},
   "outputs": [],
   "source": [
    "def create_model():\n",
    "    ## Initialize model.\n",
    "    model = Sequential()\n",
    "\n",
    "    ## 1st Layer\n",
    "    model.add(Conv2D(34, kernel_size=3, activation='relu', input_shape=(6, 6, 1), name='conv2_1', groups=0))\n",
    "    \n",
    "    ## 2nd Layer\n",
    "    model.add(Conv2D(32, kernel_size=3, activation='relu', name='conv2_2'))\n",
    "    model.add(MaxPooling2D(pool_size=(2, 2), strides=2, name='max_pool_1'))\n",
    "\n",
    "    ## Adding 2  Dense Layers with sigmoid (for classification)\n",
    "    model.add(Flatten())\n",
    "    model.add(Dense(32, activation='relu', name='dense_1'))\n",
    "    model.add(Dense(8, activation='relu', name='dense_2'))\n",
    "    model.add(Dense(2, activation='sigmoid', name='dense_3'))\n",
    "    \n",
    "    ## Define loss function\n",
    "    model.compile(loss='binary_crossentropy', optimizer='adam', metrics=['accuracy'])\n",
    "    return model"
   ]
  },
  {
   "cell_type": "code",
   "execution_count": 100,
   "metadata": {},
   "outputs": [],
   "source": [
    "FNN = create_model()"
   ]
  },
  {
   "cell_type": "code",
   "execution_count": 101,
   "metadata": {},
   "outputs": [
    {
     "name": "stdout",
     "output_type": "stream",
     "text": [
      "Epoch 1/100\n",
      "20/20 - 6s - loss: 2.3123 - accuracy: 0.5709\n",
      "Epoch 2/100\n",
      "20/20 - 6s - loss: 0.6975 - accuracy: 0.6311\n",
      "Epoch 3/100\n",
      "20/20 - 4s - loss: 0.6183 - accuracy: 0.6451\n",
      "Epoch 4/100\n",
      "20/20 - 4s - loss: 0.6161 - accuracy: 0.6474\n",
      "Epoch 5/100\n",
      "20/20 - 4s - loss: 0.6096 - accuracy: 0.6544\n",
      "Epoch 6/100\n",
      "20/20 - 4s - loss: 0.6047 - accuracy: 0.6508\n",
      "Epoch 7/100\n",
      "20/20 - 4s - loss: 0.6030 - accuracy: 0.6636\n",
      "Epoch 8/100\n",
      "20/20 - 4s - loss: 0.5986 - accuracy: 0.6581\n",
      "Epoch 9/100\n",
      "20/20 - 4s - loss: 0.5909 - accuracy: 0.6650\n",
      "Epoch 10/100\n",
      "20/20 - 4s - loss: 0.5884 - accuracy: 0.6709\n",
      "Epoch 11/100\n",
      "20/20 - 4s - loss: 0.5888 - accuracy: 0.6701\n",
      "Epoch 12/100\n",
      "20/20 - 4s - loss: 0.5835 - accuracy: 0.6740\n",
      "Epoch 13/100\n",
      "20/20 - 4s - loss: 0.5818 - accuracy: 0.6728\n",
      "Epoch 14/100\n",
      "20/20 - 4s - loss: 0.5823 - accuracy: 0.6747\n",
      "Epoch 15/100\n",
      "20/20 - 4s - loss: 0.5840 - accuracy: 0.6790\n",
      "Epoch 16/100\n",
      "20/20 - 5s - loss: 0.5828 - accuracy: 0.6778\n",
      "Epoch 17/100\n",
      "20/20 - 5s - loss: 0.5724 - accuracy: 0.6848\n",
      "Epoch 18/100\n",
      "20/20 - 6s - loss: 0.5894 - accuracy: 0.6672\n",
      "Epoch 19/100\n",
      "20/20 - 6s - loss: 0.5749 - accuracy: 0.6805\n",
      "Epoch 20/100\n",
      "20/20 - 5s - loss: 0.5712 - accuracy: 0.6903\n",
      "Epoch 21/100\n",
      "20/20 - 5s - loss: 0.5652 - accuracy: 0.6938\n",
      "Epoch 22/100\n",
      "20/20 - 4s - loss: 0.5605 - accuracy: 0.7036\n",
      "Epoch 23/100\n",
      "20/20 - 4s - loss: 0.5831 - accuracy: 0.6728\n",
      "Epoch 24/100\n",
      "20/20 - 4s - loss: 0.5556 - accuracy: 0.7053\n",
      "Epoch 25/100\n",
      "20/20 - 4s - loss: 0.5677 - accuracy: 0.6855\n",
      "Epoch 26/100\n",
      "20/20 - 4s - loss: 0.5523 - accuracy: 0.7055\n",
      "Epoch 27/100\n",
      "20/20 - 4s - loss: 0.5495 - accuracy: 0.7085\n",
      "Epoch 28/100\n",
      "20/20 - 4s - loss: 0.5467 - accuracy: 0.7188\n",
      "Epoch 29/100\n",
      "20/20 - 4s - loss: 0.5462 - accuracy: 0.7089\n",
      "Epoch 30/100\n",
      "20/20 - 4s - loss: 0.5485 - accuracy: 0.7103\n",
      "Epoch 31/100\n",
      "20/20 - 5s - loss: 0.5641 - accuracy: 0.6974\n",
      "Epoch 32/100\n",
      "20/20 - 5s - loss: 0.5690 - accuracy: 0.6921\n",
      "Epoch 33/100\n",
      "20/20 - 4s - loss: 0.5434 - accuracy: 0.7145\n",
      "Epoch 34/100\n",
      "20/20 - 4s - loss: 0.5304 - accuracy: 0.7316\n",
      "Epoch 35/100\n",
      "20/20 - 4s - loss: 0.5297 - accuracy: 0.7296\n",
      "Epoch 36/100\n",
      "20/20 - 4s - loss: 0.5414 - accuracy: 0.7157\n",
      "Epoch 37/100\n",
      "20/20 - 4s - loss: 0.5428 - accuracy: 0.7130\n",
      "Epoch 38/100\n",
      "20/20 - 4s - loss: 0.5193 - accuracy: 0.7421\n",
      "Epoch 39/100\n",
      "20/20 - 4s - loss: 0.5069 - accuracy: 0.7516\n",
      "Epoch 40/100\n",
      "20/20 - 4s - loss: 0.5380 - accuracy: 0.7145\n",
      "Epoch 41/100\n",
      "20/20 - 4s - loss: 0.5070 - accuracy: 0.7550\n",
      "Epoch 42/100\n",
      "20/20 - 5s - loss: 0.5073 - accuracy: 0.7504\n",
      "Epoch 43/100\n",
      "20/20 - 5s - loss: 0.5045 - accuracy: 0.7509\n",
      "Epoch 44/100\n",
      "20/20 - 6s - loss: 0.4891 - accuracy: 0.7682\n",
      "Epoch 45/100\n",
      "20/20 - 7s - loss: 0.4857 - accuracy: 0.7769\n",
      "Epoch 46/100\n",
      "20/20 - 4s - loss: 0.4997 - accuracy: 0.7421\n",
      "Epoch 47/100\n",
      "20/20 - 4s - loss: 0.5012 - accuracy: 0.7356\n",
      "Epoch 48/100\n",
      "20/20 - 4s - loss: 0.4871 - accuracy: 0.7545\n",
      "Epoch 49/100\n",
      "20/20 - 4s - loss: 0.4812 - accuracy: 0.7781\n",
      "Epoch 50/100\n",
      "20/20 - 4s - loss: 0.4679 - accuracy: 0.7836\n",
      "Epoch 51/100\n",
      "20/20 - 4s - loss: 0.4648 - accuracy: 0.7865\n",
      "Epoch 52/100\n",
      "20/20 - 4s - loss: 0.4941 - accuracy: 0.7557\n",
      "Epoch 53/100\n",
      "20/20 - 4s - loss: 0.5000 - accuracy: 0.7508\n",
      "Epoch 54/100\n",
      "20/20 - 4s - loss: 0.4539 - accuracy: 0.7990\n",
      "Epoch 55/100\n",
      "20/20 - 4s - loss: 0.4596 - accuracy: 0.7851\n",
      "Epoch 56/100\n",
      "20/20 - 4s - loss: 0.4515 - accuracy: 0.7921\n",
      "Epoch 57/100\n",
      "20/20 - 4s - loss: 0.4439 - accuracy: 0.8017\n",
      "Epoch 58/100\n",
      "20/20 - 4s - loss: 0.4470 - accuracy: 0.7985\n",
      "Epoch 59/100\n",
      "20/20 - 4s - loss: 0.4408 - accuracy: 0.7925\n",
      "Epoch 60/100\n",
      "20/20 - 4s - loss: 0.4784 - accuracy: 0.7622\n",
      "Epoch 61/100\n",
      "20/20 - 4s - loss: 0.4387 - accuracy: 0.8009\n",
      "Epoch 62/100\n",
      "20/20 - 4s - loss: 0.4345 - accuracy: 0.7964\n",
      "Epoch 63/100\n",
      "20/20 - 4s - loss: 0.4321 - accuracy: 0.8032\n",
      "Epoch 64/100\n",
      "20/20 - 4s - loss: 0.4216 - accuracy: 0.8166\n",
      "Epoch 65/100\n",
      "20/20 - 4s - loss: 0.4415 - accuracy: 0.7954\n",
      "Epoch 66/100\n",
      "20/20 - 4s - loss: 0.4394 - accuracy: 0.7962\n",
      "Epoch 67/100\n",
      "20/20 - 4s - loss: 0.4272 - accuracy: 0.8096\n",
      "Epoch 68/100\n",
      "20/20 - 4s - loss: 0.4226 - accuracy: 0.8113\n",
      "Epoch 69/100\n",
      "20/20 - 4s - loss: 0.4703 - accuracy: 0.7699\n",
      "Epoch 70/100\n",
      "20/20 - 4s - loss: 0.4815 - accuracy: 0.7672\n",
      "Epoch 71/100\n",
      "20/20 - 4s - loss: 0.4157 - accuracy: 0.8203\n",
      "Epoch 72/100\n",
      "20/20 - 4s - loss: 0.4075 - accuracy: 0.8214\n",
      "Epoch 73/100\n",
      "20/20 - 4s - loss: 0.4160 - accuracy: 0.8186\n",
      "Epoch 74/100\n",
      "20/20 - 4s - loss: 0.4554 - accuracy: 0.7844\n",
      "Epoch 75/100\n",
      "20/20 - 4s - loss: 0.4361 - accuracy: 0.7926\n",
      "Epoch 76/100\n",
      "20/20 - 4s - loss: 0.4263 - accuracy: 0.8056\n",
      "Epoch 77/100\n",
      "20/20 - 4s - loss: 0.4178 - accuracy: 0.8126\n",
      "Epoch 78/100\n",
      "20/20 - 4s - loss: 0.3948 - accuracy: 0.8301\n",
      "Epoch 79/100\n",
      "20/20 - 4s - loss: 0.3906 - accuracy: 0.8361\n",
      "Epoch 80/100\n",
      "20/20 - 4s - loss: 0.3942 - accuracy: 0.8323\n",
      "Epoch 81/100\n",
      "20/20 - 4s - loss: 0.3869 - accuracy: 0.8366\n",
      "Epoch 82/100\n",
      "20/20 - 4s - loss: 0.3923 - accuracy: 0.8301\n",
      "Epoch 83/100\n",
      "20/20 - 4s - loss: 0.4071 - accuracy: 0.8179\n",
      "Epoch 84/100\n",
      "20/20 - 4s - loss: 0.3875 - accuracy: 0.8342\n",
      "Epoch 85/100\n",
      "20/20 - 4s - loss: 0.4040 - accuracy: 0.8258\n",
      "Epoch 86/100\n",
      "20/20 - 4s - loss: 0.3874 - accuracy: 0.8345\n",
      "Epoch 87/100\n",
      "20/20 - 4s - loss: 0.3769 - accuracy: 0.8444\n",
      "Epoch 88/100\n",
      "20/20 - 4s - loss: 0.3844 - accuracy: 0.8395\n",
      "Epoch 89/100\n",
      "20/20 - 4s - loss: 0.3947 - accuracy: 0.8291\n",
      "Epoch 90/100\n",
      "20/20 - 4s - loss: 0.3775 - accuracy: 0.8409\n",
      "Epoch 91/100\n",
      "20/20 - 6s - loss: 0.3969 - accuracy: 0.8304\n",
      "Epoch 92/100\n",
      "20/20 - 4s - loss: 0.4116 - accuracy: 0.8260\n",
      "Epoch 93/100\n",
      "20/20 - 4s - loss: 0.3897 - accuracy: 0.8340\n",
      "Epoch 94/100\n",
      "20/20 - 4s - loss: 0.3998 - accuracy: 0.8303\n",
      "Epoch 95/100\n",
      "20/20 - 4s - loss: 0.4104 - accuracy: 0.8179\n",
      "Epoch 96/100\n",
      "20/20 - 4s - loss: 0.3839 - accuracy: 0.8349\n",
      "Epoch 97/100\n",
      "20/20 - 4s - loss: 0.3687 - accuracy: 0.8439\n",
      "Epoch 98/100\n",
      "20/20 - 4s - loss: 0.3787 - accuracy: 0.8410\n",
      "Epoch 99/100\n",
      "20/20 - 4s - loss: 0.3782 - accuracy: 0.8409\n",
      "Epoch 100/100\n",
      "20/20 - 4s - loss: 0.3757 - accuracy: 0.8374\n"
     ]
    },
    {
     "data": {
      "text/plain": [
       "<tensorflow.python.keras.callbacks.History at 0x7faf7cd4b390>"
      ]
     },
     "execution_count": 101,
     "metadata": {},
     "output_type": "execute_result"
    }
   ],
   "source": [
    "FNN.fit(x_train, epochs=100, batch_size=batch_size, shuffle=True, verbose=2)"
   ]
  },
  {
   "cell_type": "code",
   "execution_count": 102,
   "metadata": {},
   "outputs": [
    {
     "name": "stdout",
     "output_type": "stream",
     "text": [
      "8/8 [==============================] - 0s 1ms/step - loss: 0.3962 - accuracy: 0.8322\n"
     ]
    },
    {
     "data": {
      "text/plain": [
       "[0.39617788791656494, 0.8322026133537292]"
      ]
     },
     "execution_count": 102,
     "metadata": {},
     "output_type": "execute_result"
    }
   ],
   "source": [
    "FNN.evaluate(x_test)"
   ]
  },
  {
   "cell_type": "code",
   "execution_count": null,
   "metadata": {},
   "outputs": [],
   "source": []
  },
  {
   "cell_type": "code",
   "execution_count": 93,
   "metadata": {},
   "outputs": [
    {
     "data": {
      "text/plain": [
       "'\\nBest so far:\\nBatch Size: 100\\nEpochs = 10\\n'"
      ]
     },
     "execution_count": 93,
     "metadata": {},
     "output_type": "execute_result"
    }
   ],
   "source": [
    "\"\"\"\n",
    "Best so far:\n",
    "23/23 [==============================] - 2s 83ms/step - loss: 0.3801 - accuracy: 0.8634\n",
    "Batch Size: 100\n",
    "Epochs = 100\n",
    "\n",
    "23/23 [==============================] - 2s 86ms/step - loss: 0.6078 - accuracy: 0.6608\n",
    "Batch Size: 100\n",
    "Epochs = 10\n",
    "\"\"\""
   ]
  }
 ],
 "metadata": {
  "kernelspec": {
   "display_name": "Python 3",
   "language": "python",
   "name": "python3"
  },
  "language_info": {
   "codemirror_mode": {
    "name": "ipython",
    "version": 3
   },
   "file_extension": ".py",
   "mimetype": "text/x-python",
   "name": "python",
   "nbconvert_exporter": "python",
   "pygments_lexer": "ipython3",
   "version": "3.7.6"
  }
 },
 "nbformat": 4,
 "nbformat_minor": 4
}
